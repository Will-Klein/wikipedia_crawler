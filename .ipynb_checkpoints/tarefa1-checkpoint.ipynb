{
 "cells": [
  {
   "cell_type": "code",
   "execution_count": 20,
   "id": "e3ab80d6-abb5-4dfd-8705-c0c092c3dfa8",
   "metadata": {},
   "outputs": [],
   "source": [
    "import os\n",
    "import time\n",
    "import requests\n",
    "from bs4 import BeautifulSoup"
   ]
  },
  {
   "cell_type": "code",
   "execution_count": 21,
   "id": "9432d535-6301-4d7d-8943-c62ac9017087",
   "metadata": {},
   "outputs": [],
   "source": [
    "# Função para coletar links presentes na página passada por parâmetro\n",
    "def coletar_links(pag):\n",
    "    todos_links = pag.find(id=\"bodyContent\").find_all(\"a\")\n",
    "    coletados = set(filtrar_links(todos_links)) #Uso de set para não ter links repetidos\n",
    "    return coletados\n",
    "# OBS: todos_links é uma coleção de links não filtrados"
   ]
  },
  {
   "cell_type": "code",
   "execution_count": 22,
   "id": "cae2705d-cc4e-43d5-9dfd-ebb79ee147ba",
   "metadata": {},
   "outputs": [],
   "source": [
    "# Função para filtrar os links para salvar apenas verbetes\n",
    "def filtrar_links(conj_links):\n",
    "    links = []\n",
    "    for link in conj_links:\n",
    "        if \"href\" in link.attrs.keys() and link[\"href\"].startswith(\"/wiki/\"):\n",
    "            if \":\" not in link[\"href\"]: #verbetes não tem :\n",
    "                links.append(link[\"href\"]) \n",
    "                #append inserção no fim\n",
    "    return links"
   ]
  },
  {
   "cell_type": "code",
   "execution_count": 43,
   "id": "7b1a7dcc-711c-4815-b650-7e6a5e9f6869",
   "metadata": {},
   "outputs": [],
   "source": [
    "# Função que salva uma página\n",
    "def salvar_pagina(url):\n",
    "    try:\n",
    "        response = requests.get(url)\n",
    "        response.raise_for_status()  # Verifica erros HTTP\n",
    "        soup = BeautifulSoup(response.content, \"html.parser\")\n",
    "        if (soup.select(\".mw-page-title-main\")):\n",
    "            titulo = soup.select(\".mw-page-title-main\")[0].text\n",
    "        \n",
    "            #Evitar que tenha caracteres invalidos no nome do arquivo\n",
    "            titulo_formatado = titulo.replace(\" \", \"_\").replace(\"/\", \"_\").replace(\"?\", \"\").replace(\":\", \"\")\n",
    "            #Criando pasta para organizar todas as paginas\n",
    "            os.makedirs(\"paginas\", exist_ok=True)\n",
    "            \n",
    "            caminho_arquivo = f\"paginas/{titulo_formatado}.html\"\n",
    "            if \"Página_principal\" in titulo_formatado:\n",
    "                return soup\n",
    "            else:\n",
    "                with open(caminho_arquivo, \"w\", encoding=\"utf-8\") as f:\n",
    "                    f.write(response.text)\n",
    "        \n",
    "                print(f\"Pagina salva: {caminho_arquivo}\")\n",
    "                \n",
    "                return soup\n",
    "        else:\n",
    "            return \n",
    "\n",
    "    except requests.RequestException as e:\n",
    "        print(f\"Erro ao baixar {url}: {e}\")"
   ]
  },
  {
   "cell_type": "code",
   "execution_count": 44,
   "id": "020310d9-bd74-4f59-96db-6351bbdf4034",
   "metadata": {},
   "outputs": [],
   "source": [
    "# Função para formatar a URL completa da Wikipedia\n",
    "def formatar_url(link):\n",
    "    return f\"https://pt.wikipedia.org{link}\""
   ]
  },
  {
   "cell_type": "code",
   "execution_count": 45,
   "id": "7bbbb03c-3194-431d-8669-e494dd59aeae",
   "metadata": {},
   "outputs": [],
   "source": [
    "# Função que verifica se a URL já foi visitada\n",
    "def foi_visitado(url, visitados):\n",
    "    return url in visitados"
   ]
  },
  {
   "cell_type": "code",
   "execution_count": 46,
   "id": "a9fa2936-013f-43ac-ad55-ee4606cd37d2",
   "metadata": {},
   "outputs": [],
   "source": [
    "def main():\n",
    "    pag_inicial = \"https://pt.wikipedia.org/wiki/Wikip%C3%A9dia:P%C3%A1gina_principal\"\n",
    "    visitados = set()\n",
    "    para_visitar = [pag_inicial]\n",
    "\n",
    "    while len(visitados) < 30 and para_visitar:  # Continua se tiver URL para visitar\n",
    "        url = para_visitar.pop(0)\n",
    "        \n",
    "\n",
    "        if foi_visitado(url, visitados):\n",
    "            continue\n",
    "\n",
    "        soup = salvar_pagina(url)\n",
    "        if soup is None:\n",
    "            continue  # Deu erro ao salvar? Pula!\n",
    "\n",
    "        visitados.add(url)\n",
    "        print(visitados)\n",
    "\n",
    "        novos_links = coletar_links(soup)\n",
    "        for link in novos_links:\n",
    "            url_formatada = formatar_url(link)\n",
    "            if not foi_visitado(url_formatada, visitados) and url_formatada not in para_visitar:\n",
    "                para_visitar.append(url_formatada)\n",
    "\n",
    "        time.sleep(1)\n",
    "\n",
    "    print(\"Coleta concluída. 30 verbetes salvos.\")"
   ]
  },
  {
   "cell_type": "code",
   "execution_count": 47,
   "id": "c9a66047-2894-4b98-91a8-c4169c4353f5",
   "metadata": {},
   "outputs": [
    {
     "name": "stdout",
     "output_type": "stream",
     "text": [
      "Pagina salva: paginas/Página_principal.html\n",
      "{'https://pt.wikipedia.org/wiki/Wikip%C3%A9dia:P%C3%A1gina_principal'}\n",
      "Pagina salva: paginas/1998.html\n",
      "{'https://pt.wikipedia.org/wiki/Wikip%C3%A9dia:P%C3%A1gina_principal', 'https://pt.wikipedia.org/wiki/1998'}\n",
      "Pagina salva: paginas/Guerra_Civil_Angolana.html\n",
      "{'https://pt.wikipedia.org/wiki/Guerra_Civil_Angolana', 'https://pt.wikipedia.org/wiki/Wikip%C3%A9dia:P%C3%A1gina_principal', 'https://pt.wikipedia.org/wiki/1998'}\n",
      "Pagina salva: paginas/Guerra_Israel-Hamas.html\n",
      "{'https://pt.wikipedia.org/wiki/Guerra_Civil_Angolana', 'https://pt.wikipedia.org/wiki/Wikip%C3%A9dia:P%C3%A1gina_principal', 'https://pt.wikipedia.org/wiki/Guerra_Israel-Hamas', 'https://pt.wikipedia.org/wiki/1998'}\n",
      "Pagina salva: paginas/Movimento_Wikimedia.html\n",
      "{'https://pt.wikipedia.org/wiki/Guerra_Civil_Angolana', 'https://pt.wikipedia.org/wiki/Wikip%C3%A9dia:P%C3%A1gina_principal', 'https://pt.wikipedia.org/wiki/Wikimedia', 'https://pt.wikipedia.org/wiki/1998', 'https://pt.wikipedia.org/wiki/Guerra_Israel-Hamas'}\n",
      "Pagina salva: paginas/1801.html\n",
      "{'https://pt.wikipedia.org/wiki/Guerra_Civil_Angolana', 'https://pt.wikipedia.org/wiki/Wikip%C3%A9dia:P%C3%A1gina_principal', 'https://pt.wikipedia.org/wiki/Wikimedia', 'https://pt.wikipedia.org/wiki/1998', 'https://pt.wikipedia.org/wiki/1801', 'https://pt.wikipedia.org/wiki/Guerra_Israel-Hamas'}\n",
      "Pagina salva: paginas/Cauda.html\n",
      "{'https://pt.wikipedia.org/wiki/Guerra_Civil_Angolana', 'https://pt.wikipedia.org/wiki/Wikip%C3%A9dia:P%C3%A1gina_principal', 'https://pt.wikipedia.org/wiki/Cauda', 'https://pt.wikipedia.org/wiki/Wikimedia', 'https://pt.wikipedia.org/wiki/1998', 'https://pt.wikipedia.org/wiki/1801', 'https://pt.wikipedia.org/wiki/Guerra_Israel-Hamas'}\n",
      "Pagina salva: paginas/Wiki.html\n",
      "{'https://pt.wikipedia.org/wiki/Guerra_Civil_Angolana', 'https://pt.wikipedia.org/wiki/Wikip%C3%A9dia:P%C3%A1gina_principal', 'https://pt.wikipedia.org/wiki/Cauda', 'https://pt.wikipedia.org/wiki/Wiki', 'https://pt.wikipedia.org/wiki/Wikimedia', 'https://pt.wikipedia.org/wiki/1998', 'https://pt.wikipedia.org/wiki/1801', 'https://pt.wikipedia.org/wiki/Guerra_Israel-Hamas'}\n",
      "Pagina salva: paginas/Wernher_von_Braun.html\n",
      "{'https://pt.wikipedia.org/wiki/Guerra_Civil_Angolana', 'https://pt.wikipedia.org/wiki/Wernher_von_Braun', 'https://pt.wikipedia.org/wiki/Wikip%C3%A9dia:P%C3%A1gina_principal', 'https://pt.wikipedia.org/wiki/Cauda', 'https://pt.wikipedia.org/wiki/Wiki', 'https://pt.wikipedia.org/wiki/Wikimedia', 'https://pt.wikipedia.org/wiki/1998', 'https://pt.wikipedia.org/wiki/1801', 'https://pt.wikipedia.org/wiki/Guerra_Israel-Hamas'}\n",
      "Pagina salva: paginas/Portugal.html\n",
      "{'https://pt.wikipedia.org/wiki/Guerra_Civil_Angolana', 'https://pt.wikipedia.org/wiki/Wernher_von_Braun', 'https://pt.wikipedia.org/wiki/Wikip%C3%A9dia:P%C3%A1gina_principal', 'https://pt.wikipedia.org/wiki/Cauda', 'https://pt.wikipedia.org/wiki/Portugal', 'https://pt.wikipedia.org/wiki/Wiki', 'https://pt.wikipedia.org/wiki/Wikimedia', 'https://pt.wikipedia.org/wiki/1998', 'https://pt.wikipedia.org/wiki/1801', 'https://pt.wikipedia.org/wiki/Guerra_Israel-Hamas'}\n",
      "Pagina salva: paginas/Bebida_alcoólica.html\n",
      "{'https://pt.wikipedia.org/wiki/Guerra_Civil_Angolana', 'https://pt.wikipedia.org/wiki/Wernher_von_Braun', 'https://pt.wikipedia.org/wiki/Wikip%C3%A9dia:P%C3%A1gina_principal', 'https://pt.wikipedia.org/wiki/Cauda', 'https://pt.wikipedia.org/wiki/Portugal', 'https://pt.wikipedia.org/wiki/Wiki', 'https://pt.wikipedia.org/wiki/Wikimedia', 'https://pt.wikipedia.org/wiki/Bebida_alco%C3%B3lica', 'https://pt.wikipedia.org/wiki/1998', 'https://pt.wikipedia.org/wiki/1801', 'https://pt.wikipedia.org/wiki/Guerra_Israel-Hamas'}\n",
      "Pagina salva: paginas/Tonelada.html\n",
      "{'https://pt.wikipedia.org/wiki/Guerra_Civil_Angolana', 'https://pt.wikipedia.org/wiki/Wernher_von_Braun', 'https://pt.wikipedia.org/wiki/Wikip%C3%A9dia:P%C3%A1gina_principal', 'https://pt.wikipedia.org/wiki/Cauda', 'https://pt.wikipedia.org/wiki/Tonelada', 'https://pt.wikipedia.org/wiki/Portugal', 'https://pt.wikipedia.org/wiki/Wiki', 'https://pt.wikipedia.org/wiki/Wikimedia', 'https://pt.wikipedia.org/wiki/Bebida_alco%C3%B3lica', 'https://pt.wikipedia.org/wiki/1998', 'https://pt.wikipedia.org/wiki/1801', 'https://pt.wikipedia.org/wiki/Guerra_Israel-Hamas'}\n",
      "Pagina salva: paginas/1899.html\n",
      "{'https://pt.wikipedia.org/wiki/Guerra_Civil_Angolana', 'https://pt.wikipedia.org/wiki/Wernher_von_Braun', 'https://pt.wikipedia.org/wiki/Wikip%C3%A9dia:P%C3%A1gina_principal', 'https://pt.wikipedia.org/wiki/1899', 'https://pt.wikipedia.org/wiki/Cauda', 'https://pt.wikipedia.org/wiki/Tonelada', 'https://pt.wikipedia.org/wiki/Portugal', 'https://pt.wikipedia.org/wiki/Wiki', 'https://pt.wikipedia.org/wiki/Wikimedia', 'https://pt.wikipedia.org/wiki/Bebida_alco%C3%B3lica', 'https://pt.wikipedia.org/wiki/1998', 'https://pt.wikipedia.org/wiki/1801', 'https://pt.wikipedia.org/wiki/Guerra_Israel-Hamas'}\n",
      "Pagina salva: paginas/Massa_corporal.html\n",
      "{'https://pt.wikipedia.org/wiki/Guerra_Civil_Angolana', 'https://pt.wikipedia.org/wiki/Wernher_von_Braun', 'https://pt.wikipedia.org/wiki/Wikip%C3%A9dia:P%C3%A1gina_principal', 'https://pt.wikipedia.org/wiki/1899', 'https://pt.wikipedia.org/wiki/Cauda', 'https://pt.wikipedia.org/wiki/Tonelada', 'https://pt.wikipedia.org/wiki/Portugal', 'https://pt.wikipedia.org/wiki/Wiki', 'https://pt.wikipedia.org/wiki/Wikimedia', 'https://pt.wikipedia.org/wiki/Bebida_alco%C3%B3lica', 'https://pt.wikipedia.org/wiki/1998', 'https://pt.wikipedia.org/wiki/1801', 'https://pt.wikipedia.org/wiki/Massa_corporal', 'https://pt.wikipedia.org/wiki/Guerra_Israel-Hamas'}\n",
      "Pagina salva: paginas/1882.html\n",
      "{'https://pt.wikipedia.org/wiki/Guerra_Civil_Angolana', 'https://pt.wikipedia.org/wiki/Wernher_von_Braun', 'https://pt.wikipedia.org/wiki/Wikip%C3%A9dia:P%C3%A1gina_principal', 'https://pt.wikipedia.org/wiki/1899', 'https://pt.wikipedia.org/wiki/Cauda', 'https://pt.wikipedia.org/wiki/Tonelada', 'https://pt.wikipedia.org/wiki/Portugal', 'https://pt.wikipedia.org/wiki/Wiki', 'https://pt.wikipedia.org/wiki/Wikimedia', 'https://pt.wikipedia.org/wiki/Bebida_alco%C3%B3lica', 'https://pt.wikipedia.org/wiki/1998', 'https://pt.wikipedia.org/wiki/1801', 'https://pt.wikipedia.org/wiki/Massa_corporal', 'https://pt.wikipedia.org/wiki/Guerra_Israel-Hamas', 'https://pt.wikipedia.org/wiki/1882'}\n",
      "Pagina salva: paginas/Acordos_de_Nova_Iorque.html\n",
      "{'https://pt.wikipedia.org/wiki/Guerra_Civil_Angolana', 'https://pt.wikipedia.org/wiki/Wernher_von_Braun', 'https://pt.wikipedia.org/wiki/Wikip%C3%A9dia:P%C3%A1gina_principal', 'https://pt.wikipedia.org/wiki/1899', 'https://pt.wikipedia.org/wiki/Cauda', 'https://pt.wikipedia.org/wiki/Tonelada', 'https://pt.wikipedia.org/wiki/Portugal', 'https://pt.wikipedia.org/wiki/Wiki', 'https://pt.wikipedia.org/wiki/Wikimedia', 'https://pt.wikipedia.org/wiki/Bebida_alco%C3%B3lica', 'https://pt.wikipedia.org/wiki/1998', 'https://pt.wikipedia.org/wiki/1801', 'https://pt.wikipedia.org/wiki/Acordos_de_Nova_Iorque', 'https://pt.wikipedia.org/wiki/Massa_corporal', 'https://pt.wikipedia.org/wiki/Guerra_Israel-Hamas', 'https://pt.wikipedia.org/wiki/1882'}\n",
      "Pagina salva: paginas/Tratado_de_paz.html\n",
      "{'https://pt.wikipedia.org/wiki/Tratado_de_paz', 'https://pt.wikipedia.org/wiki/Guerra_Civil_Angolana', 'https://pt.wikipedia.org/wiki/Wernher_von_Braun', 'https://pt.wikipedia.org/wiki/Wikip%C3%A9dia:P%C3%A1gina_principal', 'https://pt.wikipedia.org/wiki/1899', 'https://pt.wikipedia.org/wiki/Cauda', 'https://pt.wikipedia.org/wiki/Tonelada', 'https://pt.wikipedia.org/wiki/Portugal', 'https://pt.wikipedia.org/wiki/Wiki', 'https://pt.wikipedia.org/wiki/Wikimedia', 'https://pt.wikipedia.org/wiki/Bebida_alco%C3%B3lica', 'https://pt.wikipedia.org/wiki/1998', 'https://pt.wikipedia.org/wiki/1801', 'https://pt.wikipedia.org/wiki/Acordos_de_Nova_Iorque', 'https://pt.wikipedia.org/wiki/Massa_corporal', 'https://pt.wikipedia.org/wiki/Guerra_Israel-Hamas', 'https://pt.wikipedia.org/wiki/1882'}\n",
      "Pagina salva: paginas/Eddie_Jordan.html\n",
      "{'https://pt.wikipedia.org/wiki/Tratado_de_paz', 'https://pt.wikipedia.org/wiki/Guerra_Civil_Angolana', 'https://pt.wikipedia.org/wiki/Wernher_von_Braun', 'https://pt.wikipedia.org/wiki/Wikip%C3%A9dia:P%C3%A1gina_principal', 'https://pt.wikipedia.org/wiki/1899', 'https://pt.wikipedia.org/wiki/Cauda', 'https://pt.wikipedia.org/wiki/Tonelada', 'https://pt.wikipedia.org/wiki/Portugal', 'https://pt.wikipedia.org/wiki/Wiki', 'https://pt.wikipedia.org/wiki/Wikimedia', 'https://pt.wikipedia.org/wiki/Bebida_alco%C3%B3lica', 'https://pt.wikipedia.org/wiki/Eddie_Jordan', 'https://pt.wikipedia.org/wiki/1998', 'https://pt.wikipedia.org/wiki/1801', 'https://pt.wikipedia.org/wiki/Acordos_de_Nova_Iorque', 'https://pt.wikipedia.org/wiki/Massa_corporal', 'https://pt.wikipedia.org/wiki/Guerra_Israel-Hamas', 'https://pt.wikipedia.org/wiki/1882'}\n",
      "Pagina salva: paginas/2001.html\n",
      "{'https://pt.wikipedia.org/wiki/Wiki', 'https://pt.wikipedia.org/wiki/Bebida_alco%C3%B3lica', 'https://pt.wikipedia.org/wiki/1882', 'https://pt.wikipedia.org/wiki/Wernher_von_Braun', 'https://pt.wikipedia.org/wiki/Cauda', 'https://pt.wikipedia.org/wiki/Portugal', 'https://pt.wikipedia.org/wiki/Wikimedia', 'https://pt.wikipedia.org/wiki/2001', 'https://pt.wikipedia.org/wiki/Acordos_de_Nova_Iorque', 'https://pt.wikipedia.org/wiki/Massa_corporal', 'https://pt.wikipedia.org/wiki/Guerra_Israel-Hamas', 'https://pt.wikipedia.org/wiki/Eddie_Jordan', 'https://pt.wikipedia.org/wiki/1998', 'https://pt.wikipedia.org/wiki/Tratado_de_paz', 'https://pt.wikipedia.org/wiki/Guerra_Civil_Angolana', 'https://pt.wikipedia.org/wiki/Wikip%C3%A9dia:P%C3%A1gina_principal', 'https://pt.wikipedia.org/wiki/1899', 'https://pt.wikipedia.org/wiki/Tonelada', 'https://pt.wikipedia.org/wiki/1801'}\n",
      "Pagina salva: paginas/Cronologia_da_invasão_da_Ucrânia_pela_Rússia_(2022–presente).html\n",
      "{'https://pt.wikipedia.org/wiki/Wiki', 'https://pt.wikipedia.org/wiki/Bebida_alco%C3%B3lica', 'https://pt.wikipedia.org/wiki/1882', 'https://pt.wikipedia.org/wiki/Wernher_von_Braun', 'https://pt.wikipedia.org/wiki/Cauda', 'https://pt.wikipedia.org/wiki/Portugal', 'https://pt.wikipedia.org/wiki/Wikimedia', 'https://pt.wikipedia.org/wiki/2001', 'https://pt.wikipedia.org/wiki/Acordos_de_Nova_Iorque', 'https://pt.wikipedia.org/wiki/Massa_corporal', 'https://pt.wikipedia.org/wiki/Guerra_Israel-Hamas', 'https://pt.wikipedia.org/wiki/Eddie_Jordan', 'https://pt.wikipedia.org/wiki/1998', 'https://pt.wikipedia.org/wiki/Tratado_de_paz', 'https://pt.wikipedia.org/wiki/Guerra_Civil_Angolana', 'https://pt.wikipedia.org/wiki/Wikip%C3%A9dia:P%C3%A1gina_principal', 'https://pt.wikipedia.org/wiki/1899', 'https://pt.wikipedia.org/wiki/Tonelada', 'https://pt.wikipedia.org/wiki/Cronologia_da_invas%C3%A3o_da_Ucr%C3%A2nia_pela_R%C3%BAssia_(2022%E2%80%93presente)', 'https://pt.wikipedia.org/wiki/1801'}\n",
      "Pagina salva: paginas/XXIV_Governo_Constitucional_de_Portugal.html\n",
      "{'https://pt.wikipedia.org/wiki/Wiki', 'https://pt.wikipedia.org/wiki/Bebida_alco%C3%B3lica', 'https://pt.wikipedia.org/wiki/1882', 'https://pt.wikipedia.org/wiki/Wernher_von_Braun', 'https://pt.wikipedia.org/wiki/XXIV_Governo_Constitucional_de_Portugal', 'https://pt.wikipedia.org/wiki/Cauda', 'https://pt.wikipedia.org/wiki/Portugal', 'https://pt.wikipedia.org/wiki/Wikimedia', 'https://pt.wikipedia.org/wiki/2001', 'https://pt.wikipedia.org/wiki/Acordos_de_Nova_Iorque', 'https://pt.wikipedia.org/wiki/Massa_corporal', 'https://pt.wikipedia.org/wiki/Guerra_Israel-Hamas', 'https://pt.wikipedia.org/wiki/Eddie_Jordan', 'https://pt.wikipedia.org/wiki/1998', 'https://pt.wikipedia.org/wiki/Tratado_de_paz', 'https://pt.wikipedia.org/wiki/Guerra_Civil_Angolana', 'https://pt.wikipedia.org/wiki/Wikip%C3%A9dia:P%C3%A1gina_principal', 'https://pt.wikipedia.org/wiki/1899', 'https://pt.wikipedia.org/wiki/Tonelada', 'https://pt.wikipedia.org/wiki/Cronologia_da_invas%C3%A3o_da_Ucr%C3%A2nia_pela_R%C3%BAssia_(2022%E2%80%93presente)', 'https://pt.wikipedia.org/wiki/1801'}\n",
      "Pagina salva: paginas/Enciclopédia.html\n",
      "{'https://pt.wikipedia.org/wiki/Wiki', 'https://pt.wikipedia.org/wiki/Bebida_alco%C3%B3lica', 'https://pt.wikipedia.org/wiki/1882', 'https://pt.wikipedia.org/wiki/Enciclop%C3%A9dia', 'https://pt.wikipedia.org/wiki/Wernher_von_Braun', 'https://pt.wikipedia.org/wiki/XXIV_Governo_Constitucional_de_Portugal', 'https://pt.wikipedia.org/wiki/Cauda', 'https://pt.wikipedia.org/wiki/Portugal', 'https://pt.wikipedia.org/wiki/Wikimedia', 'https://pt.wikipedia.org/wiki/2001', 'https://pt.wikipedia.org/wiki/Acordos_de_Nova_Iorque', 'https://pt.wikipedia.org/wiki/Massa_corporal', 'https://pt.wikipedia.org/wiki/Guerra_Israel-Hamas', 'https://pt.wikipedia.org/wiki/Eddie_Jordan', 'https://pt.wikipedia.org/wiki/1998', 'https://pt.wikipedia.org/wiki/Tratado_de_paz', 'https://pt.wikipedia.org/wiki/Guerra_Civil_Angolana', 'https://pt.wikipedia.org/wiki/Wikip%C3%A9dia:P%C3%A1gina_principal', 'https://pt.wikipedia.org/wiki/1899', 'https://pt.wikipedia.org/wiki/Tonelada', 'https://pt.wikipedia.org/wiki/Cronologia_da_invas%C3%A3o_da_Ucr%C3%A2nia_pela_R%C3%BAssia_(2022%E2%80%93presente)', 'https://pt.wikipedia.org/wiki/1801'}\n",
      "Pagina salva: paginas/Língua_portuguesa.html\n",
      "{'https://pt.wikipedia.org/wiki/L%C3%ADngua_portuguesa', 'https://pt.wikipedia.org/wiki/Wiki', 'https://pt.wikipedia.org/wiki/Bebida_alco%C3%B3lica', 'https://pt.wikipedia.org/wiki/1882', 'https://pt.wikipedia.org/wiki/Enciclop%C3%A9dia', 'https://pt.wikipedia.org/wiki/Wernher_von_Braun', 'https://pt.wikipedia.org/wiki/XXIV_Governo_Constitucional_de_Portugal', 'https://pt.wikipedia.org/wiki/Cauda', 'https://pt.wikipedia.org/wiki/Portugal', 'https://pt.wikipedia.org/wiki/Wikimedia', 'https://pt.wikipedia.org/wiki/2001', 'https://pt.wikipedia.org/wiki/Acordos_de_Nova_Iorque', 'https://pt.wikipedia.org/wiki/Massa_corporal', 'https://pt.wikipedia.org/wiki/Guerra_Israel-Hamas', 'https://pt.wikipedia.org/wiki/Eddie_Jordan', 'https://pt.wikipedia.org/wiki/1998', 'https://pt.wikipedia.org/wiki/Tratado_de_paz', 'https://pt.wikipedia.org/wiki/Guerra_Civil_Angolana', 'https://pt.wikipedia.org/wiki/Wikip%C3%A9dia:P%C3%A1gina_principal', 'https://pt.wikipedia.org/wiki/1899', 'https://pt.wikipedia.org/wiki/Tonelada', 'https://pt.wikipedia.org/wiki/Cronologia_da_invas%C3%A3o_da_Ucr%C3%A2nia_pela_R%C3%BAssia_(2022%E2%80%93presente)', 'https://pt.wikipedia.org/wiki/1801'}\n",
      "Pagina salva: paginas/Alemanha.html\n",
      "{'https://pt.wikipedia.org/wiki/L%C3%ADngua_portuguesa', 'https://pt.wikipedia.org/wiki/Alemanha', 'https://pt.wikipedia.org/wiki/Wiki', 'https://pt.wikipedia.org/wiki/Bebida_alco%C3%B3lica', 'https://pt.wikipedia.org/wiki/1882', 'https://pt.wikipedia.org/wiki/Enciclop%C3%A9dia', 'https://pt.wikipedia.org/wiki/Wernher_von_Braun', 'https://pt.wikipedia.org/wiki/XXIV_Governo_Constitucional_de_Portugal', 'https://pt.wikipedia.org/wiki/Cauda', 'https://pt.wikipedia.org/wiki/Portugal', 'https://pt.wikipedia.org/wiki/Wikimedia', 'https://pt.wikipedia.org/wiki/2001', 'https://pt.wikipedia.org/wiki/Acordos_de_Nova_Iorque', 'https://pt.wikipedia.org/wiki/Massa_corporal', 'https://pt.wikipedia.org/wiki/Guerra_Israel-Hamas', 'https://pt.wikipedia.org/wiki/Eddie_Jordan', 'https://pt.wikipedia.org/wiki/1998', 'https://pt.wikipedia.org/wiki/Tratado_de_paz', 'https://pt.wikipedia.org/wiki/Guerra_Civil_Angolana', 'https://pt.wikipedia.org/wiki/Wikip%C3%A9dia:P%C3%A1gina_principal', 'https://pt.wikipedia.org/wiki/1899', 'https://pt.wikipedia.org/wiki/Tonelada', 'https://pt.wikipedia.org/wiki/Cronologia_da_invas%C3%A3o_da_Ucr%C3%A2nia_pela_R%C3%BAssia_(2022%E2%80%93presente)', 'https://pt.wikipedia.org/wiki/1801'}\n",
      "Pagina salva: paginas/Benito_Barreto.html\n",
      "{'https://pt.wikipedia.org/wiki/L%C3%ADngua_portuguesa', 'https://pt.wikipedia.org/wiki/Alemanha', 'https://pt.wikipedia.org/wiki/Wiki', 'https://pt.wikipedia.org/wiki/Bebida_alco%C3%B3lica', 'https://pt.wikipedia.org/wiki/1882', 'https://pt.wikipedia.org/wiki/Enciclop%C3%A9dia', 'https://pt.wikipedia.org/wiki/Wernher_von_Braun', 'https://pt.wikipedia.org/wiki/XXIV_Governo_Constitucional_de_Portugal', 'https://pt.wikipedia.org/wiki/Cauda', 'https://pt.wikipedia.org/wiki/Portugal', 'https://pt.wikipedia.org/wiki/Wikimedia', 'https://pt.wikipedia.org/wiki/2001', 'https://pt.wikipedia.org/wiki/Acordos_de_Nova_Iorque', 'https://pt.wikipedia.org/wiki/Massa_corporal', 'https://pt.wikipedia.org/wiki/Guerra_Israel-Hamas', 'https://pt.wikipedia.org/wiki/Benito_Barreto', 'https://pt.wikipedia.org/wiki/Eddie_Jordan', 'https://pt.wikipedia.org/wiki/1998', 'https://pt.wikipedia.org/wiki/Tratado_de_paz', 'https://pt.wikipedia.org/wiki/Guerra_Civil_Angolana', 'https://pt.wikipedia.org/wiki/Wikip%C3%A9dia:P%C3%A1gina_principal', 'https://pt.wikipedia.org/wiki/1899', 'https://pt.wikipedia.org/wiki/Tonelada', 'https://pt.wikipedia.org/wiki/Cronologia_da_invas%C3%A3o_da_Ucr%C3%A2nia_pela_R%C3%BAssia_(2022%E2%80%93presente)', 'https://pt.wikipedia.org/wiki/1801'}\n",
      "Pagina salva: paginas/Conteúdo_livre.html\n",
      "{'https://pt.wikipedia.org/wiki/L%C3%ADngua_portuguesa', 'https://pt.wikipedia.org/wiki/Alemanha', 'https://pt.wikipedia.org/wiki/Wiki', 'https://pt.wikipedia.org/wiki/Bebida_alco%C3%B3lica', 'https://pt.wikipedia.org/wiki/1882', 'https://pt.wikipedia.org/wiki/Enciclop%C3%A9dia', 'https://pt.wikipedia.org/wiki/Wernher_von_Braun', 'https://pt.wikipedia.org/wiki/XXIV_Governo_Constitucional_de_Portugal', 'https://pt.wikipedia.org/wiki/Cauda', 'https://pt.wikipedia.org/wiki/Portugal', 'https://pt.wikipedia.org/wiki/Wikimedia', 'https://pt.wikipedia.org/wiki/2001', 'https://pt.wikipedia.org/wiki/Acordos_de_Nova_Iorque', 'https://pt.wikipedia.org/wiki/Massa_corporal', 'https://pt.wikipedia.org/wiki/Guerra_Israel-Hamas', 'https://pt.wikipedia.org/wiki/Benito_Barreto', 'https://pt.wikipedia.org/wiki/Eddie_Jordan', 'https://pt.wikipedia.org/wiki/1998', 'https://pt.wikipedia.org/wiki/Tratado_de_paz', 'https://pt.wikipedia.org/wiki/Conte%C3%BAdo_livre', 'https://pt.wikipedia.org/wiki/Guerra_Civil_Angolana', 'https://pt.wikipedia.org/wiki/Wikip%C3%A9dia:P%C3%A1gina_principal', 'https://pt.wikipedia.org/wiki/1899', 'https://pt.wikipedia.org/wiki/Tonelada', 'https://pt.wikipedia.org/wiki/Cronologia_da_invas%C3%A3o_da_Ucr%C3%A2nia_pela_R%C3%BAssia_(2022%E2%80%93presente)', 'https://pt.wikipedia.org/wiki/1801'}\n",
      "Pagina salva: paginas/Luís_Montenegro.html\n",
      "{'https://pt.wikipedia.org/wiki/L%C3%ADngua_portuguesa', 'https://pt.wikipedia.org/wiki/Alemanha', 'https://pt.wikipedia.org/wiki/Wiki', 'https://pt.wikipedia.org/wiki/Bebida_alco%C3%B3lica', 'https://pt.wikipedia.org/wiki/1882', 'https://pt.wikipedia.org/wiki/Enciclop%C3%A9dia', 'https://pt.wikipedia.org/wiki/Wernher_von_Braun', 'https://pt.wikipedia.org/wiki/XXIV_Governo_Constitucional_de_Portugal', 'https://pt.wikipedia.org/wiki/Cauda', 'https://pt.wikipedia.org/wiki/Portugal', 'https://pt.wikipedia.org/wiki/Wikimedia', 'https://pt.wikipedia.org/wiki/2001', 'https://pt.wikipedia.org/wiki/Acordos_de_Nova_Iorque', 'https://pt.wikipedia.org/wiki/Massa_corporal', 'https://pt.wikipedia.org/wiki/Guerra_Israel-Hamas', 'https://pt.wikipedia.org/wiki/Benito_Barreto', 'https://pt.wikipedia.org/wiki/Eddie_Jordan', 'https://pt.wikipedia.org/wiki/1998', 'https://pt.wikipedia.org/wiki/Tratado_de_paz', 'https://pt.wikipedia.org/wiki/Conte%C3%BAdo_livre', 'https://pt.wikipedia.org/wiki/Guerra_Civil_Angolana', 'https://pt.wikipedia.org/wiki/Wikip%C3%A9dia:P%C3%A1gina_principal', 'https://pt.wikipedia.org/wiki/1899', 'https://pt.wikipedia.org/wiki/Tonelada', 'https://pt.wikipedia.org/wiki/Cronologia_da_invas%C3%A3o_da_Ucr%C3%A2nia_pela_R%C3%BAssia_(2022%E2%80%93presente)', 'https://pt.wikipedia.org/wiki/1801', 'https://pt.wikipedia.org/wiki/Lu%C3%ADs_Montenegro'}\n",
      "Pagina salva: paginas/Batalha_de_Cuito_Cuanavale.html\n",
      "{'https://pt.wikipedia.org/wiki/Batalha_de_Cuito_Cuanavale', 'https://pt.wikipedia.org/wiki/L%C3%ADngua_portuguesa', 'https://pt.wikipedia.org/wiki/Alemanha', 'https://pt.wikipedia.org/wiki/Wiki', 'https://pt.wikipedia.org/wiki/Bebida_alco%C3%B3lica', 'https://pt.wikipedia.org/wiki/1882', 'https://pt.wikipedia.org/wiki/Enciclop%C3%A9dia', 'https://pt.wikipedia.org/wiki/Wernher_von_Braun', 'https://pt.wikipedia.org/wiki/XXIV_Governo_Constitucional_de_Portugal', 'https://pt.wikipedia.org/wiki/Cauda', 'https://pt.wikipedia.org/wiki/Portugal', 'https://pt.wikipedia.org/wiki/Wikimedia', 'https://pt.wikipedia.org/wiki/2001', 'https://pt.wikipedia.org/wiki/Acordos_de_Nova_Iorque', 'https://pt.wikipedia.org/wiki/Massa_corporal', 'https://pt.wikipedia.org/wiki/Guerra_Israel-Hamas', 'https://pt.wikipedia.org/wiki/Benito_Barreto', 'https://pt.wikipedia.org/wiki/Eddie_Jordan', 'https://pt.wikipedia.org/wiki/1998', 'https://pt.wikipedia.org/wiki/Tratado_de_paz', 'https://pt.wikipedia.org/wiki/Conte%C3%BAdo_livre', 'https://pt.wikipedia.org/wiki/Guerra_Civil_Angolana', 'https://pt.wikipedia.org/wiki/Wikip%C3%A9dia:P%C3%A1gina_principal', 'https://pt.wikipedia.org/wiki/1899', 'https://pt.wikipedia.org/wiki/Tonelada', 'https://pt.wikipedia.org/wiki/Cronologia_da_invas%C3%A3o_da_Ucr%C3%A2nia_pela_R%C3%BAssia_(2022%E2%80%93presente)', 'https://pt.wikipedia.org/wiki/1801', 'https://pt.wikipedia.org/wiki/Lu%C3%ADs_Montenegro'}\n",
      "Pagina salva: paginas/Declaração_de_guerra_(ato_formal).html\n",
      "{'https://pt.wikipedia.org/wiki/Batalha_de_Cuito_Cuanavale', 'https://pt.wikipedia.org/wiki/L%C3%ADngua_portuguesa', 'https://pt.wikipedia.org/wiki/Alemanha', 'https://pt.wikipedia.org/wiki/Wiki', 'https://pt.wikipedia.org/wiki/Bebida_alco%C3%B3lica', 'https://pt.wikipedia.org/wiki/1882', 'https://pt.wikipedia.org/wiki/Enciclop%C3%A9dia', 'https://pt.wikipedia.org/wiki/Wernher_von_Braun', 'https://pt.wikipedia.org/wiki/XXIV_Governo_Constitucional_de_Portugal', 'https://pt.wikipedia.org/wiki/Cauda', 'https://pt.wikipedia.org/wiki/Estado_de_guerra', 'https://pt.wikipedia.org/wiki/Portugal', 'https://pt.wikipedia.org/wiki/Wikimedia', 'https://pt.wikipedia.org/wiki/2001', 'https://pt.wikipedia.org/wiki/Acordos_de_Nova_Iorque', 'https://pt.wikipedia.org/wiki/Massa_corporal', 'https://pt.wikipedia.org/wiki/Guerra_Israel-Hamas', 'https://pt.wikipedia.org/wiki/Benito_Barreto', 'https://pt.wikipedia.org/wiki/Eddie_Jordan', 'https://pt.wikipedia.org/wiki/1998', 'https://pt.wikipedia.org/wiki/Tratado_de_paz', 'https://pt.wikipedia.org/wiki/Conte%C3%BAdo_livre', 'https://pt.wikipedia.org/wiki/Guerra_Civil_Angolana', 'https://pt.wikipedia.org/wiki/Wikip%C3%A9dia:P%C3%A1gina_principal', 'https://pt.wikipedia.org/wiki/1899', 'https://pt.wikipedia.org/wiki/Tonelada', 'https://pt.wikipedia.org/wiki/Cronologia_da_invas%C3%A3o_da_Ucr%C3%A2nia_pela_R%C3%BAssia_(2022%E2%80%93presente)', 'https://pt.wikipedia.org/wiki/1801', 'https://pt.wikipedia.org/wiki/Lu%C3%ADs_Montenegro'}\n",
      "Pagina salva: paginas/Primeira_Guerra_Mundial.html\n",
      "{'https://pt.wikipedia.org/wiki/Batalha_de_Cuito_Cuanavale', 'https://pt.wikipedia.org/wiki/L%C3%ADngua_portuguesa', 'https://pt.wikipedia.org/wiki/Alemanha', 'https://pt.wikipedia.org/wiki/Wiki', 'https://pt.wikipedia.org/wiki/Bebida_alco%C3%B3lica', 'https://pt.wikipedia.org/wiki/1882', 'https://pt.wikipedia.org/wiki/Enciclop%C3%A9dia', 'https://pt.wikipedia.org/wiki/Wernher_von_Braun', 'https://pt.wikipedia.org/wiki/XXIV_Governo_Constitucional_de_Portugal', 'https://pt.wikipedia.org/wiki/Cauda', 'https://pt.wikipedia.org/wiki/Estado_de_guerra', 'https://pt.wikipedia.org/wiki/Portugal', 'https://pt.wikipedia.org/wiki/Wikimedia', 'https://pt.wikipedia.org/wiki/2001', 'https://pt.wikipedia.org/wiki/Acordos_de_Nova_Iorque', 'https://pt.wikipedia.org/wiki/Massa_corporal', 'https://pt.wikipedia.org/wiki/Guerra_Israel-Hamas', 'https://pt.wikipedia.org/wiki/Benito_Barreto', 'https://pt.wikipedia.org/wiki/Primeira_Guerra_Mundial', 'https://pt.wikipedia.org/wiki/Eddie_Jordan', 'https://pt.wikipedia.org/wiki/1998', 'https://pt.wikipedia.org/wiki/Tratado_de_paz', 'https://pt.wikipedia.org/wiki/Conte%C3%BAdo_livre', 'https://pt.wikipedia.org/wiki/Guerra_Civil_Angolana', 'https://pt.wikipedia.org/wiki/Wikip%C3%A9dia:P%C3%A1gina_principal', 'https://pt.wikipedia.org/wiki/1899', 'https://pt.wikipedia.org/wiki/Tonelada', 'https://pt.wikipedia.org/wiki/Cronologia_da_invas%C3%A3o_da_Ucr%C3%A2nia_pela_R%C3%BAssia_(2022%E2%80%93presente)', 'https://pt.wikipedia.org/wiki/1801', 'https://pt.wikipedia.org/wiki/Lu%C3%ADs_Montenegro'}\n",
      "Coleta concluída. 30 verbetes salvos.\n"
     ]
    }
   ],
   "source": [
    "main()"
   ]
  },
  {
   "cell_type": "code",
   "execution_count": null,
   "id": "22914614-998b-441d-9214-ac9e87a0c60c",
   "metadata": {},
   "outputs": [],
   "source": []
  }
 ],
 "metadata": {
  "kernelspec": {
   "display_name": "Python 3 (ipykernel)",
   "language": "python",
   "name": "python3"
  },
  "language_info": {
   "codemirror_mode": {
    "name": "ipython",
    "version": 3
   },
   "file_extension": ".py",
   "mimetype": "text/x-python",
   "name": "python",
   "nbconvert_exporter": "python",
   "pygments_lexer": "ipython3",
   "version": "3.12.7"
  }
 },
 "nbformat": 4,
 "nbformat_minor": 5
}
