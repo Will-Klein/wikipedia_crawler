{
 "cells": [
  {
   "cell_type": "markdown",
   "id": "0999b2c9-4c5e-469c-85c8-c07168339a86",
   "metadata": {},
   "source": [
    "# Beautiful Soup"
   ]
  },
  {
   "cell_type": "markdown",
   "id": "94af2da2-d85c-4ae6-b30c-3ed07fdbe53e",
   "metadata": {},
   "source": [
    "## Introdução\n",
    "\n",
    "Nesta aula veremos como utilizar na prática a biblioteca BeautifulSoup, muito útil para realizar web scraping em sites que não utilizam conteúdos dinâmicos.\n",
    "\n",
    "Este laboratório tem como base a própria documentação da bilioteca, que pode ser encontrada em:\n",
    "https://www.crummy.com/software/BeautifulSoup/bs4/doc/"
   ]
  },
  {
   "cell_type": "markdown",
   "id": "b496200f-7947-4da4-a64d-8272225e1aaf",
   "metadata": {},
   "source": [
    "## Preâmbulo\n",
    "\n",
    "Antes de rodar o código acima, é necessário instalar a biblioteca Beautiful Soup no seu ambiente de desenvolvimento Python.\n",
    "\n",
    "É interessante criar um ambiente vitual de desenvolvimento antes de instalar a biblioteca. Neste curso, usaremos o conda para criar e gerenciar nossos ambientes virtuais.\n",
    "\n",
    "Seguem os comandos para criar um abiente virtual e instalar a biblioteca no Python:\n",
    "\n",
    "```\n",
    "conda create --name ambiente-cpa-p3 python 3.12\n",
    "\n",
    "conda activate ambiente-cpa-p3\n",
    "\n",
    "conda install bs4 html5lib\n",
    "```"
   ]
  },
  {
   "cell_type": "markdown",
   "id": "6bc8b6d5-3c44-47ff-84c7-b2af20b53830",
   "metadata": {},
   "source": [
    "---"
   ]
  },
  {
   "cell_type": "markdown",
   "id": "2853690a-fe29-4c28-a5f7-16c8fa837f99",
   "metadata": {},
   "source": [
    "## Obtendo páginas na Web"
   ]
  },
  {
   "cell_type": "code",
   "execution_count": 1,
   "id": "6a19372a-b89e-4b33-a534-955f2474f6ac",
   "metadata": {},
   "outputs": [],
   "source": [
    "# Essa função é utilizada para recuperar o html de uma página web\n",
    "from urllib.request import urlopen"
   ]
  },
  {
   "cell_type": "code",
   "execution_count": null,
   "id": "3a8a27db-e855-44bb-b112-a06c2a11e489",
   "metadata": {},
   "outputs": [
    {
     "name": "stdout",
     "output_type": "stream",
     "text": [
      "b'<html>\\n<head>\\n<title>A Useful Page</title>\\n</head>\\n<body>\\n<h1>An Interesting Title</h1>\\n<div>\\nLorem ipsum dolor sit amet, consectetur adipisicing elit, sed do eiusmod tempor incididunt ut labore et dolore magna aliqua. Ut enim ad minim veniam, quis nostrud exercitation ullamco laboris nisi ut aliquip ex ea commodo consequat. Duis aute irure dolor in reprehenderit in voluptate velit esse cillum dolore eu fugiat nulla pariatur. Excepteur sint occaecat cupidatat non proident, sunt in culpa qui officia deserunt mollit anim id est laborum.\\n</div>\\n</body>\\n</html>\\n'\n"
     ]
    }
   ],
   "source": [
    "# Abrindo uma página\n",
    "html = urlopen('http://www.pythonscraping.com/pages/page1.html')\n",
    "site = html.read()\n",
    "print(site)"
   ]
  },
  {
   "cell_type": "markdown",
   "id": "abfc8369-11bd-4503-9f22-a2c7623fbd9c",
   "metadata": {},
   "source": [
    "## Tratamento de Erros"
   ]
  },
  {
   "cell_type": "markdown",
   "id": "2cd8c93d-bb46-483b-8cbe-92cd1d92785e",
   "metadata": {},
   "source": [
    "Ao abrir uma url usano a função ``urlopen`` temos dois problemas principais que podem ocorrer:\n",
    "- A página pode não estar no servidor\n",
    "- O servidor não existe / não foi encontrado\n",
    "No primeiro caso o servidor retornará um erro do tipo 404 - Page not found ou 500 - Internal server error. Em ambos os casos o python lança uma exceção do tipo ``HTTPError``. No segundo caso o erro que ocorre é ``URLError``.\n",
    "\n",
    "Essas exceções devem sempre ser tratadas em nosso código, evitando erros desnecessários"
   ]
  },
  {
   "cell_type": "code",
   "execution_count": null,
   "id": "2095d400-1e2b-4cdc-a18f-97e71daeb9d8",
   "metadata": {},
   "outputs": [
    {
     "ename": "",
     "evalue": "",
     "output_type": "error",
     "traceback": [
      "\u001b[1;31mA execução de células com 'Python 3.8.0' requer o pacote ipykernel.\n",
      "\u001b[1;31mExecute o seguinte comando para instalar \"ipykernel\" no ambiente do Python. \n",
      "\u001b[1;31mComando: \"d:/python/python.exe -m pip install ipykernel -U --user --force-reinstall\""
     ]
    }
   ],
   "source": [
    "from urllib.error import HTTPError, URLError\n",
    "\n",
    "def get_pagina(url):\n",
    "    try:\n",
    "        html = urlopen(url)\n",
    "    except HTTPError as e:\n",
    "        print(\"Houve um erro na obtenção da página! \", e)\n",
    "        return None\n",
    "    except URLError as e:\n",
    "        print(\"Ocorreu um erro no servidor!\", e)\n",
    "        return None\n",
    "    else:\n",
    "        print(\"Consegui abrir a página\")\n",
    "        return html.read()\n",
    "    "
   ]
  },
  {
   "cell_type": "code",
   "execution_count": 4,
   "id": "13899a8c-98ee-487d-a4eb-47c43284eebe",
   "metadata": {},
   "outputs": [
    {
     "name": "stdout",
     "output_type": "stream",
     "text": [
      "Houve um erro na obtenção da página!  HTTP Error 404: Not Found\n"
     ]
    }
   ],
   "source": [
    "pagina = get_pagina('http://www.google.com.br/lucas')\n",
    "if pagina is not None:\n",
    "    print(pagina)\n"
   ]
  },
  {
   "cell_type": "code",
   "execution_count": 5,
   "id": "8ef4d16f-b728-4c2e-b664-56ac53c09311",
   "metadata": {},
   "outputs": [
    {
     "name": "stdout",
     "output_type": "stream",
     "text": [
      "Ocorreu um erro no servidor! <urlopen error [SSL: CERTIFICATE_VERIFY_FAILED] certificate verify failed: Hostname mismatch, certificate is not valid for 'www.joogle.com.br'. (_ssl.c:1000)>\n"
     ]
    }
   ],
   "source": [
    "pagina = get_pagina('http://www.joogle.com.br/')\n",
    "if pagina is not None:\n",
    "    print(pagina)"
   ]
  },
  {
   "cell_type": "code",
   "execution_count": 6,
   "id": "659405a9-11fc-4ef2-8582-c87bd8604754",
   "metadata": {},
   "outputs": [
    {
     "name": "stdout",
     "output_type": "stream",
     "text": [
      "Consegui abrir a página\n",
      "b'<!doctype html><html itemscope=\"\" itemtype=\"http://schema.org/WebPage\" lang=\"pt-BR\"><head><meta content=\"text/html; charset=UTF-8\" http-equiv=\"Content-Type\"><meta content=\"/images/branding/googleg/1x/googleg_standard_color_128dp.png\" itemprop=\"image\"><title>Google</title><script nonce=\"57GloqV2Ylfsb6UM5aHC0g\">(function(){var _g={kEI:\\'wMPVZ6zPHaHQ1sQPjcz9yAU\\',kEXPI:\\'0,202791,3497455,1138,448528,93005,2891,8348,425603,51386,187073,8860,42725,5241754,8834893,78,3,3,1,3,2,3,7437829,20539755,25228681,112121,85,7569,18493,8181,5927,4565,7384,53222,6756,23879,9139,4599,328,6225,1116,33195,19878,9212,54,710,1341,13708,8203,880,2416,4135,12129,9173,33,9041,17667,10668,21342,2987,787,4567,41,13162,477,1,5538,1203,4106,350,18880,5872,950,2150,4614,5774,1201,3108,10611,1731,8298,2662,4719,7218,2549,404,676,958,3261,459,4021,61,4386,1275,56,763,7,256,1,828,9,212,1,2856,1456,3281,570,2367,1822,57,7,1233,843,3013,503,1339,354,529,2,125,611,3143,809,554,7,3281,7,2459,189,1572,662,2665,490,1137,2431,1202,336,219,4,6,1142,813,108,816,236,1213,4,287,2476,1104,88,616,6,1,669,72,585,1533,411,260,80,191,73,756,40,201,106,6,12,1008,89,66,439,442,693,541,3,2,46,125,5,170,3,457,773,17,2,3,2,28,4,574,1395,351,490,181,341,115,530,455,644,628,568,921,25,289,1322,2,171,13,686,106,247,341,73,196,165,27,1855,149,7,60,223,83,14,558,310,327,323,129,156,3,9,460,226,775,1,241,442,2,1,2,2,2,474,312,755,847,1001,16,497,144,150,197,2,2,365,37,120,1083,229,3,399,501,136,575,499,152,634,243,2,178,213,2,1805,311,21328206,18,3224,1316,8,766,5008,198,843,5,4894,285,629,788,3766179,2244576,2526782\\',kBL:\\'uJPy\\',kOPI:89978449};(function(){var a;((a=window.google)==null?0:a.stvsc)?google.kEI=_g.kEI:window.google=_g;}).call(this);})();(function(){google.sn=\\'webhp\\';google.kHL=\\'pt-BR\\';})();(function(){\\nvar g=this||self;function k(){return window.google&&window.google.kOPI||null};var l,m=[];function n(a){for(var b;a&&(!a.getAttribute||!(b=a.getAttribute(\"eid\")));)a=a.parentNode;return b||l}function p(a){for(var b=null;a&&(!a.getAttribute||!(b=a.getAttribute(\"leid\")));)a=a.parentNode;return b}function q(a){/^http:/i.test(a)&&window.location.protocol===\"https:\"&&(google.ml&&google.ml(Error(\"a\"),!1,{src:a,glmm:1}),a=\"\");return a}\\nfunction r(a,b,d,c,h){var e=\"\";b.search(\"&ei=\")===-1&&(e=\"&ei=\"+n(c),b.search(\"&lei=\")===-1&&(c=p(c))&&(e+=\"&lei=\"+c));var f=b.search(\"&cshid=\")===-1&&a!==\"slh\";c=\"&zx=\"+Date.now().toString();g._cshid&&f&&(c+=\"&cshid=\"+g._cshid);(d=d())&&(c+=\"&opi=\"+d);return\"/\"+(h||\"gen_204\")+\"?atyp=i&ct=\"+String(a)+\"&cad=\"+(b+e+c)};l=google.kEI;google.getEI=n;google.getLEI=p;google.ml=function(){return null};google.log=function(a,b,d,c,h,e){e=e===void 0?k:e;d||(d=r(a,b,e,c,h));if(d=q(d)){a=new Image;var f=m.length;m[f]=a;a.onerror=a.onload=a.onabort=function(){delete m[f]};a.src=d}};google.logUrl=function(a,b){b=b===void 0?k:b;return r(\"\",a,b)};}).call(this);(function(){google.y={};google.sy=[];var d;(d=google).x||(d.x=function(a,b){if(a)var c=a.id;else{do c=Math.random();while(google.y[c])}google.y[c]=[a,b];return!1});var e;(e=google).sx||(e.sx=function(a){google.sy.push(a)});google.lm=[];var f;(f=google).plm||(f.plm=function(a){google.lm.push.apply(google.lm,a)});google.lq=[];var g;(g=google).load||(g.load=function(a,b,c){google.lq.push([[a],b,c])});var h;(h=google).loadAll||(h.loadAll=function(a,b){google.lq.push([a,b])});google.bx=!1;var k;(k=google).lx||(k.lx=function(){});var l=[],m;(m=google).fce||(m.fce=function(a,b,c,n){l.push([a,b,c,n])});google.qce=l;}).call(this);google.f={};(function(){\\ndocument.documentElement.addEventListener(\"submit\",function(b){var a;if(a=b.target){var c=a.getAttribute(\"data-submitfalse\");a=c===\"1\"||c===\"q\"&&!a.elements.q.value?!0:!1}else a=!1;a&&(b.preventDefault(),b.stopPropagation())},!0);document.documentElement.addEventListener(\"click\",function(b){var a;a:{for(a=b.target;a&&a!==document.documentElement;a=a.parentElement)if(a.tagName===\"A\"){a=a.getAttribute(\"data-nohref\")===\"1\";break a}a=!1}a&&b.preventDefault()},!0);}).call(this);</script><style>#gbar,#guser{font-size:13px;padding-top:1px !important;}#gbar{height:22px}#guser{padding-bottom:7px !important;text-align:right}.gbh,.gbd{border-top:1px solid #c9d7f1;font-size:1px}.gbh{height:0;position:absolute;top:24px;width:100%}@media all{.gb1{height:22px;margin-right:.5em;vertical-align:top}#gbar{float:left}}a.gb1,a.gb4{text-decoration:underline !important}a.gb1,a.gb4{color:#00c !important}.gbi .gb4{color:#dd8e27 !important}.gbf .gb4{color:#900 !important}\\n</style><style>body,td,a,p,.h{font-family:sans-serif}body{margin:0;overflow-y:scroll}#gog{padding:3px 8px 0}td{line-height:.8em}.gac_m td{line-height:17px}form{margin-bottom:20px}.h{color:#1967d2}em{font-weight:bold;font-style:normal}.lst{height:25px;width:496px}.gsfi,.lst{font:18px sans-serif}.gsfs{font:17px sans-serif}.ds{display:inline-box;display:inline-block;margin:3px 0 4px;margin-left:4px}input{font-family:inherit}body{background:#fff;color:#000}a{color:#681da8;text-decoration:none}a:hover,a:active{text-decoration:underline}.fl a{color:#1967d2}a:visited{color:#681da8}.sblc{padding-top:5px}.sblc a{display:block;margin:2px 0;margin-left:13px;font-size:11px}.lsbb{background:#f8f9fa;border:solid 1px;border-color:#dadce0 #70757a #70757a #dadce0;height:30px}.lsbb{display:block}#WqQANb a{display:inline-block;margin:0 12px}.lsb{background:url(/images/nav_logo229.png) 0 -261px repeat-x;color:#000;border:none;cursor:pointer;height:30px;margin:0;outline:0;font:15px sans-serif;vertical-align:top}.lsb:active{background:#dadce0}.lst:focus{outline:none}.Ucigb{width:458px}</style><script nonce=\"57GloqV2Ylfsb6UM5aHC0g\">(function(){window.google.erd={jsr:1,bv:2183,de:true,dpf:\\'t3kHhWO3lIBp53OXnEeWU7_JtKjB2HbcVp0HE-7hMH8\\'};\\nvar g=this||self;var k,l=(k=g.mei)!=null?k:1,m,p=(m=g.diel)!=null?m:0,q,r=(q=g.sdo)!=null?q:!0,t=0,u,w=google.erd,x=w.jsr;google.ml=function(a,b,d,n,e){e=e===void 0?2:e;b&&(u=a&&a.message);d===void 0&&(d={});d.cad=\"ple_\"+google.ple+\".aple_\"+google.aple;if(google.dl)return google.dl(a,e,d,!0),null;b=d;if(x<0){window.console&&console.error(a,b);if(x===-2)throw a;b=!1}else b=!a||!a.message||a.message===\"Error loading script\"||t>=l&&!n?!1:!0;if(!b)return null;t++;d=d||{};b=encodeURIComponent;var c=\"/gen_204?atyp=i&ei=\"+b(google.kEI);google.kEXPI&&(c+=\"&jexpid=\"+b(google.kEXPI));c+=\"&srcpg=\"+b(google.sn)+\"&jsr=\"+b(w.jsr)+\\n\"&bver=\"+b(w.bv);w.dpf&&(c+=\"&dpf=\"+b(w.dpf));var f=a.lineNumber;f!==void 0&&(c+=\"&line=\"+f);var h=a.fileName;h&&(h.indexOf(\"-extension:/\")>0&&(e=3),c+=\"&script=\"+b(h),f&&h===window.location.href&&(f=document.documentElement.outerHTML.split(\"\\\\n\")[f],c+=\"&cad=\"+b(f?f.substring(0,300):\"No script found.\")));google.ple&&google.ple===1&&(e=2);c+=\"&jsel=\"+e;for(var v in d)c+=\"&\",c+=b(v),c+=\"=\",c+=b(d[v]);c=c+\"&emsg=\"+b(a.name+\": \"+a.message);c=c+\"&jsst=\"+b(a.stack||\"N/A\");c.length>=12288&&(c=c.substr(0,12288));a=c;n||google.log(0,\"\",a);return a};window.onerror=function(a,b,d,n,e){u!==a&&(a=e instanceof Error?e:Error(a),d===void 0||\"lineNumber\"in a||(a.lineNumber=d),b===void 0||\"fileName\"in a||(a.fileName=b),google.ml(a,!1,void 0,!1,a.name===\"SyntaxError\"||a.message.substring(0,11)===\"SyntaxError\"||a.message.indexOf(\"Script error\")!==-1?3:p));u=null;r&&t>=l&&(window.onerror=null)};})();</script></head><body bgcolor=\"#fff\"><script nonce=\"57GloqV2Ylfsb6UM5aHC0g\">(function(){var src=\\'/images/nav_logo229.png\\';var iesg=false;document.body.onload = function(){window.n && window.n();if (document.images){new Image().src=src;}\\nif (!iesg){document.f&&document.f.q.focus();document.gbqf&&document.gbqf.q.focus();}\\n}\\n})();</script><div id=\"mngb\"><div id=gbar><nobr><b class=gb1>Pesquisa</b> <a class=gb1 href=\"https://www.google.com.br/imghp?hl=pt-BR&tab=wi\">Imagens</a> <a class=gb1 href=\"https://maps.google.com.br/maps?hl=pt-BR&tab=wl\">Maps</a> <a class=gb1 href=\"https://play.google.com/?hl=pt-BR&tab=w8\">Play</a> <a class=gb1 href=\"https://www.youtube.com/?tab=w1\">YouTube</a> <a class=gb1 href=\"https://news.google.com/?tab=wn\">Not\\xedcias</a> <a class=gb1 href=\"https://mail.google.com/mail/?tab=wm\">Gmail</a> <a class=gb1 href=\"https://drive.google.com/?tab=wo\">Drive</a> <a class=gb1 style=\"text-decoration:none\" href=\"https://www.google.com.br/intl/pt-BR/about/products?tab=wh\"><u>Mais</u> &raquo;</a></nobr></div><div id=guser width=100%><nobr><span id=gbn class=gbi></span><span id=gbf class=gbf></span><span id=gbe></span><a href=\"http://www.google.com.br/history/optout?hl=pt-BR\" class=gb4>Hist\\xf3rico da Web</a> | <a  href=\"/preferences?hl=pt-BR\" class=gb4>Configura\\xe7\\xf5es</a> | <a target=_top id=gb_70 href=\"https://accounts.google.com/ServiceLogin?hl=pt-BR&passive=true&continue=https://www.google.com.br/&ec=GAZAAQ\" class=gb4>Fazer login</a></nobr></div><div class=gbh style=left:0></div><div class=gbh style=right:0></div></div><center><br clear=\"all\" id=\"lgpd\"><div id=\"XjhHGf\"><img alt=\"Google\" height=\"92\" src=\"/images/branding/googlelogo/1x/googlelogo_white_background_color_272x92dp.png\" style=\"padding:28px 0 14px\" width=\"272\" id=\"hplogo\"><br><br></div><form action=\"/search\" name=\"f\"><table cellpadding=\"0\" cellspacing=\"0\"><tr valign=\"top\"><td width=\"25%\">&nbsp;</td><td align=\"center\" nowrap=\"\"><input name=\"ie\" value=\"ISO-8859-1\" type=\"hidden\"><input value=\"pt-BR\" name=\"hl\" type=\"hidden\"><input name=\"source\" type=\"hidden\" value=\"hp\"><input name=\"biw\" type=\"hidden\"><input name=\"bih\" type=\"hidden\"><div class=\"ds\" style=\"height:32px;margin:4px 0\"><div style=\"position:relative;zoom:1\"><input class=\"lst Ucigb\" style=\"margin:0;padding:5px 8px 0 6px;vertical-align:top;color:#000;padding-right:38px\" autocomplete=\"off\" value=\"\" title=\"Pesquisa Google\" maxlength=\"2048\" name=\"q\" size=\"57\"><img src=\"/textinputassistant/tia.png\" style=\"position:absolute;cursor:pointer;right:5px;top:4px;z-index:300\" data-script-url=\"/textinputassistant/13/pt-BR_tia.js\" id=\"tsuid_wMPVZ6zPHaHQ1sQPjcz9yAU_1\" alt=\"\" height=\"23\" width=\"27\"><script nonce=\"57GloqV2Ylfsb6UM5aHC0g\">(function(){var id=\\'tsuid_wMPVZ6zPHaHQ1sQPjcz9yAU_1\\';document.getElementById(id).onclick = function(){var s = document.createElement(\\'script\\');s.src = this.getAttribute(\\'data-script-url\\');document.body.appendChild(s);};})();</script></div></div><br style=\"line-height:0\"><span class=\"ds\"><span class=\"lsbb\"><input class=\"lsb\" value=\"Pesquisa Google\" name=\"btnG\" type=\"submit\"></span></span><span class=\"ds\"><span class=\"lsbb\"><input class=\"lsb\" id=\"tsuid_wMPVZ6zPHaHQ1sQPjcz9yAU_2\" value=\"Estou com sorte\" name=\"btnI\" type=\"submit\"><script nonce=\"57GloqV2Ylfsb6UM5aHC0g\">(function(){var id=\\'tsuid_wMPVZ6zPHaHQ1sQPjcz9yAU_2\\';document.getElementById(id).onclick = function(){if (this.form.q.value){this.checked = 1;if (this.form.iflsig)this.form.iflsig.disabled = false;}\\nelse top.location=\\'/doodles/\\';};})();</script><input value=\"ACkRmUkAAAAAZ9XR0InRAtMNCY6oFGmrc1FJ813IqohN\" name=\"iflsig\" type=\"hidden\"></span></span></td><td class=\"fl sblc\" align=\"left\" nowrap=\"\" width=\"25%\"><a href=\"/advanced_search?hl=pt-BR&amp;authuser=0\">Pesquisa avan\\xe7ada</a></td></tr></table><input id=\"gbv\" name=\"gbv\" type=\"hidden\" value=\"1\"><script nonce=\"57GloqV2Ylfsb6UM5aHC0g\">(function(){var a,b=\"1\";if(document&&document.getElementById)if(typeof XMLHttpRequest!=\"undefined\")b=\"2\";else if(typeof ActiveXObject!=\"undefined\"){var c,d,e=[\"MSXML2.XMLHTTP.6.0\",\"MSXML2.XMLHTTP.3.0\",\"MSXML2.XMLHTTP\",\"Microsoft.XMLHTTP\"];for(c=0;d=e[c++];)try{new ActiveXObject(d),b=\"2\"}catch(h){}}a=b;if(a==\"2\"&&location.search.indexOf(\"&gbv=2\")==-1){var f=google.gbvu,g=document.getElementById(\"gbv\");g&&(g.value=a);f&&window.setTimeout(function(){location.href=f},0)};}).call(this);</script></form><div style=\"font-size:83%;min-height:3.5em\"><br></div><span id=\"footer\"><div style=\"font-size:10pt\"><div style=\"margin:19px auto;text-align:center\" id=\"WqQANb\"><a href=\"/intl/pt-BR/ads/\">Publicidade</a><a href=\"/services/\">Solu\\xe7\\xf5es empresariais</a><a href=\"/intl/pt-BR/about.html\">Sobre o Google</a><a href=\"https://www.google.com.br/setprefdomain?prefdom=US&amp;sig=K_j0V9up-zObORyqVul50yFbIgWlE%3D\" id=\"fehl\">Google.com</a></div></div><p style=\"font-size:8pt;color:#70757a\">&copy; 2025 - <a href=\"/intl/pt-BR/policies/privacy/\">Privacidade</a> - <a href=\"/intl/pt-BR/policies/terms/\">Termos</a></p></span></center><script nonce=\"57GloqV2Ylfsb6UM5aHC0g\">(function(){window.google.cdo={height:757,width:1440};(function(){var a=window.innerWidth,b=window.innerHeight;if(!a||!b){var c=window.document,d=c.compatMode==\"CSS1Compat\"?c.documentElement:c.body;a=d.clientWidth;b=d.clientHeight}if(a&&b&&(a!=google.cdo.width||b!=google.cdo.height)){var e=google,f=e.log,g=\"/client_204?&atyp=i&biw=\"+a+\"&bih=\"+b+\"&ei=\"+google.kEI,h=\"\",k=window.google&&window.google.kOPI||null;k&&(h+=\"&opi=\"+k);f.call(e,\"\",\"\",g+h)};}).call(this);})();</script>   <script nonce=\"57GloqV2Ylfsb6UM5aHC0g\">(function(){google.xjs={basecomb:\\'/xjs/_/js/k\\\\x3dxjs.hp.en.sCXdW3LcOLw.es5.O/ck\\\\x3dxjs.hp.LVZ6XI0cKKU.L.X.O/am\\\\x3dBAAAAAAQAAAAAAAAAAAAAAAAAAAAAAAAAAAAAAAEAQAAAAAAAAAAAAcAADALwAEIAAEACBAAAAAAAAAAAAAAACABABAAAAgAAQBAfEcAQAAsAgCAFw/d\\\\x3d1/ed\\\\x3d1/dg\\\\x3d0/ujg\\\\x3d1/rs\\\\x3dACT90oGtOPlv6Uf4lINvOwddDACFK-VjVw\\',basecss:\\'/xjs/_/ss/k\\\\x3dxjs.hp.LVZ6XI0cKKU.L.X.O/am\\\\x3dBAAAAAAQAAAAAAAAAAAAAAAAAAAAAAAAAAAAAAAAAQAAAAAAAAAAAAAAADADAAAIAAEACBAAAAAAAAAAAAAAACABABAAAAgAAQ/rs\\\\x3dACT90oEpipTvbwY_UW8RsYo_ZLwEIp39eg\\',basejs:\\'/xjs/_/js/k\\\\x3dxjs.hp.en.sCXdW3LcOLw.es5.O/am\\\\x3dAAAAAAAAAAAAAAAAAAAAAAAAAAAAAAAAAAAAAAAEAAAAAAAAAAAAAAcAAAAIwAEAAAAAAAAAAAAAAAAAAAAAAAAAAAAAAAAAAABAfEcAQAAsAgCAFw/dg\\\\x3d0/rs\\\\x3dACT90oHlPLvzJtVXIV0XlTFrTVdHeRKNew\\',excm:[]};})();</script>        <script nonce=\"57GloqV2Ylfsb6UM5aHC0g\">(function(){var u=\\'/xjs/_/js/k\\\\x3dxjs.hp.en.sCXdW3LcOLw.es5.O/am\\\\x3dAAAAAAAAAAAAAAAAAAAAAAAAAAAAAAAAAAAAAAAEAAAAAAAAAAAAAAcAAAAIwAEAAAAAAAAAAAAAAAAAAAAAAAAAAAAAAAAAAABAfEcAQAAsAgCAFw/d\\\\x3d1/ed\\\\x3d1/dg\\\\x3d3/rs\\\\x3dACT90oHlPLvzJtVXIV0XlTFrTVdHeRKNew/m\\\\x3dsb_he,d\\';var st=1;var amd=1000;var mmd=0;var pod=true;var pop=false;var fp=\\'\\';\\nvar e=this||self;function f(){var a,b,d;if(b=a=(b=window.google)==null?void 0:(d=b.ia)==null?void 0:d.r.B2Jtyd)b=a.m,b=b===1||b===5;return b&&a.cbfd!=null&&a.cbvi!=null?a:void 0};function g(){var a=[u];if(!google.dp){for(var b=0;b<a.length;b++){var d=a[b],c=document.createElement(\"link\");c.as=\"script\";c.href=d;c.rel=\"preload\";document.body.appendChild(c)}google.dp=!0}};google.ps===void 0&&(google.ps=[]);function h(){var a=u,b=function(){};google.lx=google.stvsc?b:function(){k(a);google.lx=b};google.bx||google.lx()}function l(a,b){b&&(a.src=b);fp&&(a.fetchPriority=fp);var d=a.onload;a.onload=function(c){d&&d(c);google.ps=google.ps.filter(function(E){return a!==E})};google.ps.push(a);document.body.appendChild(a)}google.as=l;function k(a){google.timers&&google.timers.load&&google.tick&&google.tick(\"load\",\"xjsls\");var b=document.createElement(\"script\");b.onerror=function(){google.ple=1};b.onload=function(){google.ple=0};google.xjsus=void 0;l(b,a);google.aple=-1;google.dp=!0};function m(a){var b=a.getAttribute(\"jscontroller\");return(b===\"UBXHI\"||b===\"R3fhkb\"||b===\"TSZEqd\")&&a.hasAttribute(\"data-src\")}function n(){for(var a=document.getElementsByTagName(\"img\"),b=0,d=a.length;b<d;b++){var c=a[b];if(c.hasAttribute(\"data-lzy_\")&&Number(c.getAttribute(\"data-atf\"))&1&&!m(c))return!0}return!1}for(var p=document.getElementsByTagName(\"img\"),q=0,r=p.length;q<r;++q){var t=p[q];Number(t.getAttribute(\"data-atf\"))&1&&m(t)&&(t.src=t.getAttribute(\"data-src\"))};var w,x,y,z,A,B,C,D;function F(){google.xjsu=u;e._F_jsUrl=u;A=function(){h()};w=!1;x=(st===1||st===3)&&!!google.caft&&!n();y=f();z=(st===2||st===3)&&!!y&&!n();B=pod;D=(C=pop)&&document.prerendering}function G(){w||x||z||D||(A(),w=!0)}\\nsetTimeout(function(){google&&google.tick&&google.timers&&google.timers.load&&google.tick(\"load\",\"xjspls\");F();if(x||z||D){if(x){var a=function(){x=!1;G()};google.caft(a);window.setTimeout(a,amd)}z&&(a=function(){z=!1;G()},y.cbvi.push(a),window.setTimeout(a,mmd));D&&document.addEventListener(\"prerenderingchange\",function(){D=!1;G()},{once:!0});if(B||C)w||g()}else A()},0);})();window._ = window._ || {};window._DumpException = _._DumpException = function(e){throw e;};window._s = window._s || {};_s._DumpException = _._DumpException;window._qs = window._qs || {};_qs._DumpException = _._DumpException;(function(){var t=[4,16384,0,0,0,0,0,17104896,1,2097152,7766016,46930464,527296,2097220,4194305,0,0,1152,8388609,268435520,18300,569473,96256];window._F_toggles = window._xjs_toggles = t;})();window._F_installCss = window._F_installCss || function(css){};(function(){google.jl={bfl:0,dw:false,ine:false,ubm:false,uwp:true,vs:false};})();(function(){var pmc=\\'{\\\\x22d\\\\x22:{},\\\\x22sb_he\\\\x22:{\\\\x22agen\\\\x22:false,\\\\x22cgen\\\\x22:false,\\\\x22client\\\\x22:\\\\x22heirloom-hp\\\\x22,\\\\x22dh\\\\x22:true,\\\\x22ds\\\\x22:\\\\x22\\\\x22,\\\\x22fl\\\\x22:true,\\\\x22host\\\\x22:\\\\x22google.com.br\\\\x22,\\\\x22jsonp\\\\x22:true,\\\\x22msgs\\\\x22:{\\\\x22cibl\\\\x22:\\\\x22Limpar pesquisa\\\\x22,\\\\x22dym\\\\x22:\\\\x22Voc\\\\\\\\u00ea quis dizer:\\\\x22,\\\\x22lcky\\\\x22:\\\\x22Estou com sorte\\\\x22,\\\\x22lml\\\\x22:\\\\x22Saiba mais\\\\x22,\\\\x22psrc\\\\x22:\\\\x22Esta pesquisa foi removida do seu\\\\\\\\u003Ca href\\\\x3d\\\\\\\\\\\\x22/history\\\\\\\\\\\\x22\\\\\\\\u003EHist\\\\\\\\u00f3rico da web\\\\\\\\u003C/a\\\\\\\\u003E\\\\x22,\\\\x22psrl\\\\x22:\\\\x22Remover\\\\x22,\\\\x22sbit\\\\x22:\\\\x22Pesquisa por imagem\\\\x22,\\\\x22srch\\\\x22:\\\\x22Pesquisa Google\\\\x22},\\\\x22ovr\\\\x22:{},\\\\x22pq\\\\x22:\\\\x22\\\\x22,\\\\x22rfs\\\\x22:[],\\\\x22stok\\\\x22:\\\\x22YX4DTsvKMgZy15hi7VWR3xaXgtU\\\\x22}}\\';google.pmc=JSON.parse(pmc);})();</script>       </body></html>'\n"
     ]
    }
   ],
   "source": [
    "pagina = get_pagina('https://www.google.com.br')\n",
    "if pagina is not None:\n",
    "    print(pagina)"
   ]
  },
  {
   "cell_type": "markdown",
   "id": "c75effe8-1e2d-49bc-87e6-feb32321849b",
   "metadata": {},
   "source": [
    "---"
   ]
  },
  {
   "cell_type": "markdown",
   "id": "fb1739ce-cb8f-4230-8688-93ad053f28b2",
   "metadata": {},
   "source": [
    "## Arquivo ``robots.txt``"
   ]
  },
  {
   "cell_type": "code",
   "execution_count": 53,
   "id": "0a39f63d-f350-4a04-bfcd-7c54cd29fbf1",
   "metadata": {},
   "outputs": [],
   "source": [
    "import urllib.robotparser"
   ]
  },
  {
   "cell_type": "code",
   "execution_count": 55,
   "id": "455e2f87-f693-4822-bf2c-480c248bd819",
   "metadata": {},
   "outputs": [],
   "source": [
    "# Lê o arquivo robots.txt\n",
    "rp = urllib.robotparser.RobotFileParser()\n",
    "rp.set_url('https://g1.globo.com/robots.txt')\n",
    "rp.read()"
   ]
  },
  {
   "cell_type": "code",
   "execution_count": 57,
   "id": "5e9df8f5-c8d5-4973-9c30-f78e09dfd515",
   "metadata": {},
   "outputs": [
    {
     "name": "stdout",
     "output_type": "stream",
     "text": [
      "True\n"
     ]
    }
   ],
   "source": [
    "rrate = rp.can_fetch(\"*\", \"https://g1.globo.com/\")\n",
    "print(rrate)"
   ]
  },
  {
   "cell_type": "code",
   "execution_count": 58,
   "id": "7c9407d2-2830-4462-b2ba-6cb6a60d96af",
   "metadata": {},
   "outputs": [
    {
     "name": "stdout",
     "output_type": "stream",
     "text": [
      "False\n"
     ]
    }
   ],
   "source": [
    "rrate = rp.can_fetch(\"GPTBot\", \"https://g1.globo.com/\")\n",
    "print(rrate)"
   ]
  },
  {
   "cell_type": "code",
   "execution_count": 59,
   "id": "cd832910-0545-42b0-9552-c1ac66fefb5b",
   "metadata": {},
   "outputs": [
    {
     "name": "stdout",
     "output_type": "stream",
     "text": [
      "False\n"
     ]
    }
   ],
   "source": [
    "rrate = rp.can_fetch(\"*\", \"https://g1.globo.com/jornalismo/g1/\")\n",
    "print(rrate)"
   ]
  },
  {
   "cell_type": "markdown",
   "id": "6a0c0099-9c36-4aa4-8b9b-aee69cd31899",
   "metadata": {},
   "source": [
    "---"
   ]
  },
  {
   "cell_type": "markdown",
   "id": "277481ec-e98d-4219-bc29-b0b952428838",
   "metadata": {},
   "source": [
    "## Basicão do BS"
   ]
  },
  {
   "cell_type": "code",
   "execution_count": 7,
   "id": "7282eac4-adb3-4403-ac4b-7848eeab3c2b",
   "metadata": {},
   "outputs": [],
   "source": [
    "# Importando a classe principal da biblioteca BeautifulSoup\n",
    "from bs4 import BeautifulSoup"
   ]
  },
  {
   "cell_type": "code",
   "execution_count": 8,
   "id": "ad37a755-7cc7-4ffe-afbc-ceaad735f873",
   "metadata": {
    "scrolled": true
   },
   "outputs": [
    {
     "name": "stdout",
     "output_type": "stream",
     "text": [
      "<html>\n",
      " <head>\n",
      "  <title>\n",
      "   A Useful Page\n",
      "  </title>\n",
      " </head>\n",
      " <body>\n",
      "  <h1>\n",
      "   An Interesting Title\n",
      "  </h1>\n",
      "  <div>\n",
      "   Lorem ipsum dolor sit amet, consectetur adipisicing elit, sed do eiusmod tempor incididunt ut labore et dolore magna aliqua. Ut enim ad minim veniam, quis nostrud exercitation ullamco laboris nisi ut aliquip ex ea commodo consequat. Duis aute irure dolor in reprehenderit in voluptate velit esse cillum dolore eu fugiat nulla pariatur. Excepteur sint occaecat cupidatat non proident, sunt in culpa qui officia deserunt mollit anim id est laborum.\n",
      "  </div>\n",
      " </body>\n",
      "</html>\n",
      "\n"
     ]
    }
   ],
   "source": [
    "# Cria o objeto BeautifulSoup\n",
    "bs = BeautifulSoup(site, 'html.parser')\n",
    "print(bs.prettify())"
   ]
  },
  {
   "cell_type": "code",
   "execution_count": 9,
   "id": "052ac0d9-730c-452e-aea5-5eae0d799849",
   "metadata": {},
   "outputs": [
    {
     "name": "stdout",
     "output_type": "stream",
     "text": [
      "<h1>An Interesting Title</h1>\n"
     ]
    }
   ],
   "source": [
    "print(bs.h1)"
   ]
  },
  {
   "cell_type": "code",
   "execution_count": 10,
   "id": "7270fb25-5159-46d0-9541-96a9fd88d822",
   "metadata": {},
   "outputs": [
    {
     "name": "stdout",
     "output_type": "stream",
     "text": [
      "An Interesting Title\n"
     ]
    }
   ],
   "source": [
    "print(bs.h1.text)"
   ]
  },
  {
   "cell_type": "markdown",
   "id": "f1862c93-f892-436c-be9b-776b036eba0b",
   "metadata": {},
   "source": [
    "Note que essa forma de indexar os elementos do HTML só permite retornar a **primeira ocorrência** de cada um. Por exemplo, se houver duas tagas `h1` em uma página somente a primeira poderá ser obtida dessa forma."
   ]
  },
  {
   "cell_type": "markdown",
   "id": "e20b0f0a-19d2-4d01-9cf2-e759c457a236",
   "metadata": {},
   "source": [
    "### Exercício\n",
    "Recupere o conteúdo da tag `div`"
   ]
  },
  {
   "cell_type": "markdown",
   "id": "3909b494-d538-41de-805b-ed4c4e7c99f5",
   "metadata": {
    "jp-MarkdownHeadingCollapsed": true
   },
   "source": [
    "---"
   ]
  },
  {
   "cell_type": "markdown",
   "id": "d0a67d20-cc14-427a-8a90-4552f096e142",
   "metadata": {},
   "source": [
    "Abaixo criaremos uma variável com o HTML que utilizaremos como exemplo neste laboratório. É um trecho de \"Alice no País das Maravilhas\" formatado em HTML."
   ]
  },
  {
   "cell_type": "code",
   "execution_count": 11,
   "id": "d823c4aa-8cbf-4f76-a4a7-54a989285b8f",
   "metadata": {},
   "outputs": [],
   "source": [
    "html_doc = \"\"\"\n",
    "<html><head><title>The Dormouse's story</title></head>\n",
    "<body>\n",
    "<p class=\"title\"><b>The Dormouse's story</b></p>\n",
    "\n",
    "<p class=\"story\">Once upon a time there were three little sisters; and their names were\n",
    "<a href=\"http://example.com/elsie\" class=\"sister\" id=\"link1\">Elsie</a>,\n",
    "<a href=\"http://example.com/lacie\" class=\"sister\" id=\"link2\">Lacie</a> and\n",
    "<a href=\"http://example.com/tillie\" class=\"sister\" id=\"link3\">Tillie</a>;\n",
    "and they lived at the bottom of a well.</p>\n",
    "\n",
    "<p class=\"story\">...</p>\n",
    "\"\"\""
   ]
  },
  {
   "cell_type": "code",
   "execution_count": 12,
   "id": "f3af4f25-70c3-4dca-8f10-21f17129a53c",
   "metadata": {},
   "outputs": [
    {
     "name": "stdout",
     "output_type": "stream",
     "text": [
      "<html>\n",
      " <head>\n",
      "  <title>\n",
      "   The Dormouse's story\n",
      "  </title>\n",
      " </head>\n",
      " <body>\n",
      "  <p class=\"title\">\n",
      "   <b>\n",
      "    The Dormouse's story\n",
      "   </b>\n",
      "  </p>\n",
      "  <p class=\"story\">\n",
      "   Once upon a time there were three little sisters; and their names were\n",
      "   <a class=\"sister\" href=\"http://example.com/elsie\" id=\"link1\">\n",
      "    Elsie\n",
      "   </a>\n",
      "   ,\n",
      "   <a class=\"sister\" href=\"http://example.com/lacie\" id=\"link2\">\n",
      "    Lacie\n",
      "   </a>\n",
      "   and\n",
      "   <a class=\"sister\" href=\"http://example.com/tillie\" id=\"link3\">\n",
      "    Tillie\n",
      "   </a>\n",
      "   ;\n",
      "and they lived at the bottom of a well.\n",
      "  </p>\n",
      "  <p class=\"story\">\n",
      "   ...\n",
      "  </p>\n",
      " </body>\n",
      "</html>\n",
      "\n"
     ]
    }
   ],
   "source": [
    "soup = BeautifulSoup(html_doc)\n",
    "print(soup.prettify())"
   ]
  },
  {
   "cell_type": "markdown",
   "id": "cccc90c2-895e-4c3c-bfa7-27c3c4b2448b",
   "metadata": {},
   "source": [
    "## Acesso aos atributos e Movimentação"
   ]
  },
  {
   "cell_type": "markdown",
   "id": "4d0bad6d-cd1c-48a6-ada6-257a7e9b250f",
   "metadata": {},
   "source": [
    "Podemos acessar os atributos de forma semelhante com a qual acessamos os valores de um dicionário."
   ]
  },
  {
   "cell_type": "code",
   "execution_count": 13,
   "id": "d1f3e2ed-ca4b-4cbc-8139-b36d02e03e54",
   "metadata": {},
   "outputs": [
    {
     "data": {
      "text/plain": [
       "'http://example.com/elsie'"
      ]
     },
     "execution_count": 13,
     "metadata": {},
     "output_type": "execute_result"
    }
   ],
   "source": [
    "soup.body.a['href']"
   ]
  },
  {
   "cell_type": "markdown",
   "id": "e254f04d-80d6-4393-a602-9015268c02d7",
   "metadata": {},
   "source": [
    "### Exercício\n",
    "Escreva o código que acessa o conteúdo do atributo class da primeira tag \"p\" que está dentro de body\n",
    "A saída deve ser: `['title']`\n"
   ]
  },
  {
   "cell_type": "code",
   "execution_count": null,
   "id": "52331b49-e0aa-4e03-b2be-19cdae59c14a",
   "metadata": {},
   "outputs": [
    {
     "data": {
      "text/plain": [
       "['title']"
      ]
     },
     "execution_count": 55,
     "metadata": {},
     "output_type": "execute_result"
    }
   ],
   "source": []
  },
  {
   "cell_type": "markdown",
   "id": "3ec0048e-94a9-40d9-8bed-943a15971e14",
   "metadata": {},
   "source": [
    "Para acessar todos os filhos de uma tag, podemos utilizar o método ```.contents``` ou o gerador de listas ```.children```"
   ]
  },
  {
   "cell_type": "code",
   "execution_count": 14,
   "id": "0a80cb48-553a-44be-9d38-ff1630899e14",
   "metadata": {},
   "outputs": [
    {
     "data": {
      "text/plain": [
       "<head><title>The Dormouse's story</title></head>"
      ]
     },
     "execution_count": 14,
     "metadata": {},
     "output_type": "execute_result"
    }
   ],
   "source": [
    "tag_head = soup.head\n",
    "tag_head"
   ]
  },
  {
   "cell_type": "code",
   "execution_count": 15,
   "id": "a4c6a7d5-46fa-4b99-bdfb-b6dc723d34ab",
   "metadata": {},
   "outputs": [
    {
     "data": {
      "text/plain": [
       "[<title>The Dormouse's story</title>]"
      ]
     },
     "execution_count": 15,
     "metadata": {},
     "output_type": "execute_result"
    }
   ],
   "source": [
    "tag_head.contents"
   ]
  },
  {
   "cell_type": "markdown",
   "id": "3dcc21aa-6d62-4f65-9c36-bb69e1e5dc59",
   "metadata": {},
   "source": [
    "Em alguns casos podemos querer também os “filhos dos filhos”, nesse caso podemos utilizar o método ```.descendants```"
   ]
  },
  {
   "cell_type": "code",
   "execution_count": 16,
   "id": "056aa6bc-b871-4c60-b266-0fb686587ed7",
   "metadata": {},
   "outputs": [
    {
     "name": "stdout",
     "output_type": "stream",
     "text": [
      "<title>The Dormouse's story</title>\n",
      "The Dormouse's story\n"
     ]
    }
   ],
   "source": [
    "for filho in tag_head.descendants:\n",
    "    print(filho)"
   ]
  },
  {
   "cell_type": "markdown",
   "id": "ba8ec8a7-a079-4e3c-9c78-ff8b2c0c598a",
   "metadata": {},
   "source": [
    "Quando a tag possui apenas uma ```NavigableString``` como filho, podemos acessar pelo ```.string```, caso possua mais de um podemos acessar via ```.strings``` e ```.stripped_strings```\n"
   ]
  },
  {
   "cell_type": "code",
   "execution_count": 17,
   "id": "d4ffc795-1d54-468c-817e-4210316128aa",
   "metadata": {},
   "outputs": [
    {
     "data": {
      "text/plain": [
       "<title>The Dormouse's story</title>"
      ]
     },
     "execution_count": 17,
     "metadata": {},
     "output_type": "execute_result"
    }
   ],
   "source": [
    "tag_titulo = soup.head.title\n",
    "tag_titulo"
   ]
  },
  {
   "cell_type": "code",
   "execution_count": 18,
   "id": "032a228c-6861-4b6e-924d-47229de1b5c0",
   "metadata": {},
   "outputs": [
    {
     "data": {
      "text/plain": [
       "\"The Dormouse's story\""
      ]
     },
     "execution_count": 18,
     "metadata": {},
     "output_type": "execute_result"
    }
   ],
   "source": [
    "tag_titulo.string"
   ]
  },
  {
   "cell_type": "code",
   "execution_count": 19,
   "id": "d24d63f5-d1dd-40cf-aa49-180fcdde5352",
   "metadata": {},
   "outputs": [
    {
     "name": "stdout",
     "output_type": "stream",
     "text": [
      "<class 'bs4.element.NavigableString'>\n",
      "The Dormouse's story <class 'str'>\n"
     ]
    }
   ],
   "source": [
    "print(type(tag_titulo.string))\n",
    "titulo = str(tag_titulo.string)\n",
    "print(titulo, type(titulo))"
   ]
  },
  {
   "cell_type": "markdown",
   "id": "11021754-0e1e-44f7-adfd-e218a9c3ac68",
   "metadata": {},
   "source": [
    "Podemos visitar também tags irmãs acessando os métodos ```.next_siblings``` e ```.previous_siblings```"
   ]
  },
  {
   "cell_type": "code",
   "execution_count": 20,
   "id": "80aab266-9cda-4a82-8225-bfaacc794e7c",
   "metadata": {},
   "outputs": [
    {
     "name": "stdout",
     "output_type": "stream",
     "text": [
      "<a class=\"sister\" href=\"http://example.com/elsie\" id=\"link1\">Elsie</a>\n"
     ]
    }
   ],
   "source": [
    "link = soup.a\n",
    "print(link)"
   ]
  },
  {
   "cell_type": "code",
   "execution_count": 21,
   "id": "a2f11c96-e1dd-415f-82d6-94d6f500f9a1",
   "metadata": {},
   "outputs": [
    {
     "data": {
      "text/plain": [
       "',\\n'"
      ]
     },
     "execution_count": 21,
     "metadata": {},
     "output_type": "execute_result"
    }
   ],
   "source": [
    "link.next_sibling"
   ]
  },
  {
   "cell_type": "code",
   "execution_count": 22,
   "id": "3d3ac9ee-5866-47f2-9ff2-c4128ac78b52",
   "metadata": {},
   "outputs": [
    {
     "name": "stdout",
     "output_type": "stream",
     "text": [
      "[ ,\n",
      " ]\n",
      "[ <a class=\"sister\" href=\"http://example.com/lacie\" id=\"link2\">Lacie</a> ]\n",
      "[  and\n",
      " ]\n",
      "[ <a class=\"sister\" href=\"http://example.com/tillie\" id=\"link3\">Tillie</a> ]\n",
      "[ ;\n",
      "and they lived at the bottom of a well. ]\n"
     ]
    }
   ],
   "source": [
    "for irmao in link.next_siblings:\n",
    "    print(\"[\", irmao, \"]\")"
   ]
  },
  {
   "cell_type": "markdown",
   "id": "9bd5612e-e9c8-41ad-884d-1693bf26e3fa",
   "metadata": {},
   "source": [
    "## Funções de Busca"
   ]
  },
  {
   "cell_type": "markdown",
   "id": "75bd621a-5c9b-4b67-9fa3-2d9b1b183062",
   "metadata": {},
   "source": [
    "As funções de busca tem como objetivo encontrar elementos dentro das páginas web. Existem duas funções de busca: `find` e `find_all`"
   ]
  },
  {
   "cell_type": "markdown",
   "id": "c0b426d4-f3c0-46f1-87af-2bdd8c1ed896",
   "metadata": {},
   "source": [
    "### Busca por string"
   ]
  },
  {
   "cell_type": "code",
   "execution_count": 23,
   "id": "0b1d535a-dd39-4cb1-98bc-3c96da32ad48",
   "metadata": {},
   "outputs": [
    {
     "data": {
      "text/plain": [
       "<a class=\"sister\" href=\"http://example.com/elsie\" id=\"link1\">Elsie</a>"
      ]
     },
     "execution_count": 23,
     "metadata": {},
     "output_type": "execute_result"
    }
   ],
   "source": [
    "soup.find('a')"
   ]
  },
  {
   "cell_type": "code",
   "execution_count": 24,
   "id": "f9ce012d-d719-4059-9f08-ad12f6628e42",
   "metadata": {},
   "outputs": [
    {
     "data": {
      "text/plain": [
       "[<a class=\"sister\" href=\"http://example.com/elsie\" id=\"link1\">Elsie</a>,\n",
       " <a class=\"sister\" href=\"http://example.com/lacie\" id=\"link2\">Lacie</a>,\n",
       " <a class=\"sister\" href=\"http://example.com/tillie\" id=\"link3\">Tillie</a>]"
      ]
     },
     "execution_count": 24,
     "metadata": {},
     "output_type": "execute_result"
    }
   ],
   "source": [
    "soup.find_all('a')"
   ]
  },
  {
   "cell_type": "markdown",
   "id": "98ef59fa-c3bf-4104-81a3-6e622b5e3581",
   "metadata": {},
   "source": [
    "### Exercício\n",
    "Qual a diferença entre as funções find e find_all?"
   ]
  },
  {
   "cell_type": "markdown",
   "id": "b0fe86e8-8a9f-44f0-b9f0-348f9a960812",
   "metadata": {},
   "source": [
    "### Busca por Regex"
   ]
  },
  {
   "cell_type": "code",
   "execution_count": 25,
   "id": "bd9f5d58-12e2-4f64-bd5a-da9f7dcee037",
   "metadata": {},
   "outputs": [
    {
     "name": "stdout",
     "output_type": "stream",
     "text": [
      "body\n",
      "b\n"
     ]
    }
   ],
   "source": [
    "import re \n",
    "for tag in soup.find_all(re.compile(\"^b\")):\n",
    "    print(tag.name)"
   ]
  },
  {
   "cell_type": "markdown",
   "id": "39364187-715e-42a6-b5f2-164fbed5f3e5",
   "metadata": {},
   "source": [
    "### Busca por lista\n",
    "Match com um elemento de uma lista"
   ]
  },
  {
   "cell_type": "code",
   "execution_count": 26,
   "id": "32bdc8ee-3c97-4d33-b469-148ec2717d63",
   "metadata": {},
   "outputs": [
    {
     "data": {
      "text/plain": [
       "[<b>The Dormouse's story</b>,\n",
       " <a class=\"sister\" href=\"http://example.com/elsie\" id=\"link1\">Elsie</a>,\n",
       " <a class=\"sister\" href=\"http://example.com/lacie\" id=\"link2\">Lacie</a>,\n",
       " <a class=\"sister\" href=\"http://example.com/tillie\" id=\"link3\">Tillie</a>]"
      ]
     },
     "execution_count": 26,
     "metadata": {},
     "output_type": "execute_result"
    }
   ],
   "source": [
    "soup.find_all([\"a\", \"b\"])"
   ]
  },
  {
   "cell_type": "markdown",
   "id": "fb002d2e-8357-4446-b321-aa391bf76c85",
   "metadata": {},
   "source": [
    "### True"
   ]
  },
  {
   "cell_type": "code",
   "execution_count": 27,
   "id": "df20b9b6-cd9a-40c3-bfa4-6f70b9cfa50d",
   "metadata": {},
   "outputs": [
    {
     "name": "stdout",
     "output_type": "stream",
     "text": [
      "html\n",
      "head\n",
      "title\n",
      "body\n",
      "p\n",
      "b\n",
      "p\n",
      "a\n",
      "a\n",
      "a\n",
      "p\n"
     ]
    }
   ],
   "source": [
    "for tag in soup.find_all(True):\n",
    "    print(tag.name)"
   ]
  },
  {
   "cell_type": "markdown",
   "id": "ffed26db-7905-494f-8334-66ca500ca6c4",
   "metadata": {},
   "source": [
    "### Função\n",
    "\n",
    "Match com elementos que retornam True quando passados para a função"
   ]
  },
  {
   "cell_type": "code",
   "execution_count": 28,
   "id": "254c35ae-97c1-4ee6-a653-0025cd060554",
   "metadata": {},
   "outputs": [
    {
     "name": "stdout",
     "output_type": "stream",
     "text": [
      "<p class=\"title\"><b>The Dormouse's story</b></p>\n",
      "\n",
      "<p class=\"story\">Once upon a time there were three little sisters; and their names were\n",
      "<a class=\"sister\" href=\"http://example.com/elsie\" id=\"link1\">Elsie</a>,\n",
      "<a class=\"sister\" href=\"http://example.com/lacie\" id=\"link2\">Lacie</a> and\n",
      "<a class=\"sister\" href=\"http://example.com/tillie\" id=\"link3\">Tillie</a>;\n",
      "and they lived at the bottom of a well.</p>\n",
      "\n",
      "<p class=\"story\">...</p>\n",
      "\n"
     ]
    }
   ],
   "source": [
    "def has_class_but_no_id(tag):\n",
    "   return tag.has_attr('class') and not tag.has_attr('id')\n",
    "\n",
    "for tag in soup.find_all(has_class_but_no_id):\n",
    "   print(tag)\n",
    "   print()"
   ]
  },
  {
   "cell_type": "code",
   "execution_count": 29,
   "id": "f967c1a9-f11a-4d08-8b3c-9d50d35db686",
   "metadata": {},
   "outputs": [
    {
     "name": "stdout",
     "output_type": "stream",
     "text": [
      "body\n",
      "p\n",
      "a\n",
      "a\n",
      "a\n",
      "p\n"
     ]
    }
   ],
   "source": [
    "from bs4 import NavigableString\n",
    "def surrounded_by_strings(tag):\n",
    "    return (isinstance(tag.next_element, NavigableString)\n",
    "            and isinstance(tag.previous_element, NavigableString))\n",
    "\n",
    "for tag in soup.find_all(surrounded_by_strings):\n",
    "    print(tag.name)   "
   ]
  },
  {
   "cell_type": "markdown",
   "id": "8d428c9a-e895-4708-8bdd-1b24672ad571",
   "metadata": {},
   "source": [
    "### Parâmetros da função find_all\n",
    "\n",
    "```\n",
    "find_all(name, attrs, recursive, string, limit, **kwargs)\n",
    "```\n",
    "\n",
    "```name```: para filtrar apenas tags com o nome específico\n",
    "\n",
    "```attrs```: utilizado para realizar filtros de atributos\n",
    "\n",
    "```recursive```: pesquisar apenas na tag ou em seus descendentes\n",
    "\n",
    "```string```: pesquisar pelo conteúdo/string das tags\n",
    "\n",
    "```limit```: limita o número de retornos do ```find_all```\n",
    "\n",
    "```**kwargs```: Todos os parâmetros nomeados não conhecidos são convertidos para filtros de atributos"
   ]
  },
  {
   "cell_type": "code",
   "execution_count": 30,
   "id": "f4c740e5-e27e-4a60-a913-4b683124d181",
   "metadata": {},
   "outputs": [
    {
     "data": {
      "text/plain": [
       "[<title>The Dormouse's story</title>]"
      ]
     },
     "execution_count": 30,
     "metadata": {},
     "output_type": "execute_result"
    }
   ],
   "source": [
    "# Parâmetro nome\n",
    "soup.find_all(\"title\")"
   ]
  },
  {
   "cell_type": "code",
   "execution_count": 31,
   "id": "ad529a11-8d9a-47fe-87b1-2baf04a724cb",
   "metadata": {},
   "outputs": [
    {
     "data": {
      "text/plain": [
       "[<a class=\"sister\" href=\"http://example.com/elsie\" id=\"link1\">Elsie</a>,\n",
       " <a class=\"sister\" href=\"http://example.com/lacie\" id=\"link2\">Lacie</a>,\n",
       " <a class=\"sister\" href=\"http://example.com/tillie\" id=\"link3\">Tillie</a>]"
      ]
     },
     "execution_count": 31,
     "metadata": {},
     "output_type": "execute_result"
    }
   ],
   "source": [
    "# Parâmetro attrs\n",
    "soup.find_all(attrs={\"class\": \"sister\"})"
   ]
  },
  {
   "cell_type": "code",
   "execution_count": 32,
   "id": "0059c82e-ee18-4a39-8b53-993d86fc382a",
   "metadata": {},
   "outputs": [
    {
     "data": {
      "text/plain": [
       "[<title>The Dormouse's story</title>]"
      ]
     },
     "execution_count": 32,
     "metadata": {},
     "output_type": "execute_result"
    }
   ],
   "source": [
    "# Atributo recursive\n",
    "soup.html.find_all(\"title\")"
   ]
  },
  {
   "cell_type": "code",
   "execution_count": 33,
   "id": "5179b6d9-52d8-4a3b-8bbb-5869608b5bc2",
   "metadata": {},
   "outputs": [
    {
     "data": {
      "text/plain": [
       "[]"
      ]
     },
     "execution_count": 33,
     "metadata": {},
     "output_type": "execute_result"
    }
   ],
   "source": [
    "# Esse código só busca nos filhos diretos da tag html\n",
    "soup.html.find_all(\"title\", recursive=False)"
   ]
  },
  {
   "cell_type": "code",
   "execution_count": 34,
   "id": "d6b01e41-1afd-4f2b-9954-fc125496f1b3",
   "metadata": {},
   "outputs": [
    {
     "data": {
      "text/plain": [
       "['Elsie']"
      ]
     },
     "execution_count": 34,
     "metadata": {},
     "output_type": "execute_result"
    }
   ],
   "source": [
    "# Atributo string\n",
    "soup.find_all(string=\"Elsie\")"
   ]
  },
  {
   "cell_type": "code",
   "execution_count": 35,
   "id": "0e74063d-89a8-4a0e-af03-c3b0eb279667",
   "metadata": {},
   "outputs": [
    {
     "data": {
      "text/plain": [
       "['Elsie', 'Lacie', 'Tillie']"
      ]
     },
     "execution_count": 35,
     "metadata": {},
     "output_type": "execute_result"
    }
   ],
   "source": [
    "soup.find_all(string=[\"Tillie\", \"Lacie\", \"Elsie\"])"
   ]
  },
  {
   "cell_type": "code",
   "execution_count": 36,
   "id": "be46b063-13d2-4da4-b619-3d98ded4cd65",
   "metadata": {},
   "outputs": [
    {
     "data": {
      "text/plain": [
       "[\"The Dormouse's story\", \"The Dormouse's story\"]"
      ]
     },
     "execution_count": 36,
     "metadata": {},
     "output_type": "execute_result"
    }
   ],
   "source": [
    "import re\n",
    "soup.find_all(string=re.compile(\"Dormouse\"))"
   ]
  },
  {
   "cell_type": "code",
   "execution_count": 37,
   "id": "b1317271-154f-47ba-93ff-e1370b2157f3",
   "metadata": {},
   "outputs": [
    {
     "data": {
      "text/plain": [
       "[\"The Dormouse's story\",\n",
       " \"The Dormouse's story\",\n",
       " 'Elsie',\n",
       " 'Lacie',\n",
       " 'Tillie',\n",
       " '...']"
      ]
     },
     "execution_count": 37,
     "metadata": {},
     "output_type": "execute_result"
    }
   ],
   "source": [
    "def is_the_only_string_within_a_tag(s):\n",
    "    \"\"\"Retorna True se a string for o filho único da tag pai.\"\"\"\n",
    "    return (s == s.parent.string)\n",
    "\n",
    "soup.find_all(string=is_the_only_string_within_a_tag)"
   ]
  },
  {
   "cell_type": "code",
   "execution_count": 38,
   "id": "501d4fcc-2a06-47b3-a2a1-eb89ebb9dee6",
   "metadata": {},
   "outputs": [
    {
     "data": {
      "text/plain": [
       "[<a class=\"sister\" href=\"http://example.com/elsie\" id=\"link1\">Elsie</a>,\n",
       " <a class=\"sister\" href=\"http://example.com/lacie\" id=\"link2\">Lacie</a>]"
      ]
     },
     "execution_count": 38,
     "metadata": {},
     "output_type": "execute_result"
    }
   ],
   "source": [
    "# Parâmetro limit\n",
    "soup.find_all(\"a\", limit=2)"
   ]
  },
  {
   "cell_type": "code",
   "execution_count": 39,
   "id": "a1a9b5b4-3b7e-4444-804c-bfc69d205786",
   "metadata": {},
   "outputs": [
    {
     "data": {
      "text/plain": [
       "[<a class=\"sister\" href=\"http://example.com/lacie\" id=\"link2\">Lacie</a>]"
      ]
     },
     "execution_count": 39,
     "metadata": {},
     "output_type": "execute_result"
    }
   ],
   "source": [
    "# Parâmetro **kwargs\n",
    "soup.find_all(id=\"link2\")"
   ]
  },
  {
   "cell_type": "code",
   "execution_count": 40,
   "id": "dbe279da-fd22-4d18-b2f7-e87c86c241a4",
   "metadata": {},
   "outputs": [
    {
     "data": {
      "text/plain": [
       "[<a class=\"sister\" href=\"http://example.com/elsie\" id=\"link1\">Elsie</a>]"
      ]
     },
     "execution_count": 40,
     "metadata": {},
     "output_type": "execute_result"
    }
   ],
   "source": [
    "soup.find_all(href=re.compile(\"elsie\"))"
   ]
  },
  {
   "cell_type": "code",
   "execution_count": 41,
   "id": "81c2d47d-66a7-45be-9111-426f49dc5612",
   "metadata": {},
   "outputs": [
    {
     "data": {
      "text/plain": [
       "[<a class=\"sister\" href=\"http://example.com/elsie\" id=\"link1\">Elsie</a>,\n",
       " <a class=\"sister\" href=\"http://example.com/lacie\" id=\"link2\">Lacie</a>,\n",
       " <a class=\"sister\" href=\"http://example.com/tillie\" id=\"link3\">Tillie</a>]"
      ]
     },
     "execution_count": 41,
     "metadata": {},
     "output_type": "execute_result"
    }
   ],
   "source": [
    "soup.find_all(class_=\"sister\")"
   ]
  },
  {
   "cell_type": "markdown",
   "id": "5929a3ea-68f9-442d-aa76-57e34b7bfa6c",
   "metadata": {},
   "source": [
    "### Exercício\n",
    "\n",
    "Usando ```find_all``` selecione:\n",
    "1. Todas as tags da classe story\n",
    "2. Tag com id link2 e as suas irmãs subsequentes \n"
   ]
  },
  {
   "cell_type": "markdown",
   "id": "9400ef32-d484-47bc-b163-a700b36be087",
   "metadata": {},
   "source": [
    "## Seletores CSS"
   ]
  },
  {
   "cell_type": "markdown",
   "id": "0e30dd5b-5e68-446e-acb9-08f33df58bfd",
   "metadata": {},
   "source": [
    "Seletores são padrões textuais que casam com algum elemento de uma árvore (de um arquivo XML ou HTML). \n",
    "\n",
    "Podemos ter os seguintes tipos de seletores:\n",
    "\n",
    "* **Seletores Simples**: Por tipo, universal, por id, por classe, por atributo ou pseudo-classe;\n",
    "* **Seletores Compostos**: É uma sequência de seletores simples (por exemplo por tipo e por classe);\n",
    "* **Lista de Seletores**: É formada por uma lista de seletores separadas por vírgula\n",
    "* **Seletores Complexos**: É formado por múltiplos seletores simples ou compostos junto de combinadores.\n"
   ]
  },
  {
   "cell_type": "code",
   "execution_count": 42,
   "id": "b1b51211-4af0-4c20-9523-0b1b239bfbbd",
   "metadata": {},
   "outputs": [
    {
     "data": {
      "text/plain": [
       "[<title>The Dormouse's story</title>]"
      ]
     },
     "execution_count": 42,
     "metadata": {},
     "output_type": "execute_result"
    }
   ],
   "source": [
    "# Seletor por tipo\n",
    "soup.select(\"title\")"
   ]
  },
  {
   "cell_type": "code",
   "execution_count": 43,
   "id": "bd0e66c0-c73c-4c35-a941-822b2fb3ca35",
   "metadata": {},
   "outputs": [
    {
     "data": {
      "text/plain": [
       "[<html><head><title>The Dormouse's story</title></head>\n",
       " <body>\n",
       " <p class=\"title\"><b>The Dormouse's story</b></p>\n",
       " \n",
       " <p class=\"story\">Once upon a time there were three little sisters; and their names were\n",
       " <a class=\"sister\" href=\"http://example.com/elsie\" id=\"link1\">Elsie</a>,\n",
       " <a class=\"sister\" href=\"http://example.com/lacie\" id=\"link2\">Lacie</a> and\n",
       " <a class=\"sister\" href=\"http://example.com/tillie\" id=\"link3\">Tillie</a>;\n",
       " and they lived at the bottom of a well.</p>\n",
       " \n",
       " <p class=\"story\">...</p>\n",
       " </body></html>,\n",
       " <head><title>The Dormouse's story</title></head>,\n",
       " <title>The Dormouse's story</title>,\n",
       " <body>\n",
       " <p class=\"title\"><b>The Dormouse's story</b></p>\n",
       " \n",
       " <p class=\"story\">Once upon a time there were three little sisters; and their names were\n",
       " <a class=\"sister\" href=\"http://example.com/elsie\" id=\"link1\">Elsie</a>,\n",
       " <a class=\"sister\" href=\"http://example.com/lacie\" id=\"link2\">Lacie</a> and\n",
       " <a class=\"sister\" href=\"http://example.com/tillie\" id=\"link3\">Tillie</a>;\n",
       " and they lived at the bottom of a well.</p>\n",
       " \n",
       " <p class=\"story\">...</p>\n",
       " </body>,\n",
       " <p class=\"title\"><b>The Dormouse's story</b></p>,\n",
       " <b>The Dormouse's story</b>,\n",
       " <p class=\"story\">Once upon a time there were three little sisters; and their names were\n",
       " <a class=\"sister\" href=\"http://example.com/elsie\" id=\"link1\">Elsie</a>,\n",
       " <a class=\"sister\" href=\"http://example.com/lacie\" id=\"link2\">Lacie</a> and\n",
       " <a class=\"sister\" href=\"http://example.com/tillie\" id=\"link3\">Tillie</a>;\n",
       " and they lived at the bottom of a well.</p>,\n",
       " <a class=\"sister\" href=\"http://example.com/elsie\" id=\"link1\">Elsie</a>,\n",
       " <a class=\"sister\" href=\"http://example.com/lacie\" id=\"link2\">Lacie</a>,\n",
       " <a class=\"sister\" href=\"http://example.com/tillie\" id=\"link3\">Tillie</a>,\n",
       " <p class=\"story\">...</p>]"
      ]
     },
     "execution_count": 43,
     "metadata": {},
     "output_type": "execute_result"
    }
   ],
   "source": [
    "# Seletor Universal\n",
    "soup.select(\"*\")"
   ]
  },
  {
   "cell_type": "code",
   "execution_count": 44,
   "id": "3e246f89-d148-4e7d-bb3c-82f6d7af2eb6",
   "metadata": {},
   "outputs": [
    {
     "data": {
      "text/plain": [
       "[<a class=\"sister\" href=\"http://example.com/elsie\" id=\"link1\">Elsie</a>,\n",
       " <a class=\"sister\" href=\"http://example.com/lacie\" id=\"link2\">Lacie</a>,\n",
       " <a class=\"sister\" href=\"http://example.com/tillie\" id=\"link3\">Tillie</a>]"
      ]
     },
     "execution_count": 44,
     "metadata": {},
     "output_type": "execute_result"
    }
   ],
   "source": [
    "# Seletor por atributo\n",
    "soup.select(\"[id]\")"
   ]
  },
  {
   "cell_type": "code",
   "execution_count": 45,
   "id": "308337db-2fbe-40fb-92f0-b44d1de8fd06",
   "metadata": {},
   "outputs": [
    {
     "data": {
      "text/plain": [
       "[<p class=\"story\">Once upon a time there were three little sisters; and their names were\n",
       " <a class=\"sister\" href=\"http://example.com/elsie\" id=\"link1\">Elsie</a>,\n",
       " <a class=\"sister\" href=\"http://example.com/lacie\" id=\"link2\">Lacie</a> and\n",
       " <a class=\"sister\" href=\"http://example.com/tillie\" id=\"link3\">Tillie</a>;\n",
       " and they lived at the bottom of a well.</p>,\n",
       " <a class=\"sister\" href=\"http://example.com/elsie\" id=\"link1\">Elsie</a>,\n",
       " <a class=\"sister\" href=\"http://example.com/lacie\" id=\"link2\">Lacie</a>,\n",
       " <a class=\"sister\" href=\"http://example.com/tillie\" id=\"link3\">Tillie</a>,\n",
       " <p class=\"story\">...</p>]"
      ]
     },
     "execution_count": 45,
     "metadata": {},
     "output_type": "execute_result"
    }
   ],
   "source": [
    "# Seletor de atributo por substring\n",
    "soup.select(\"[class^=s]\")"
   ]
  },
  {
   "cell_type": "code",
   "execution_count": 46,
   "id": "515e4a0f-ea4a-4caf-9e91-ffa5c6bf2aaf",
   "metadata": {},
   "outputs": [
    {
     "data": {
      "text/plain": [
       "[<a class=\"sister\" href=\"http://example.com/elsie\" id=\"link1\">Elsie</a>,\n",
       " <a class=\"sister\" href=\"http://example.com/lacie\" id=\"link2\">Lacie</a>,\n",
       " <a class=\"sister\" href=\"http://example.com/tillie\" id=\"link3\">Tillie</a>]"
      ]
     },
     "execution_count": 46,
     "metadata": {},
     "output_type": "execute_result"
    }
   ],
   "source": [
    "# Seletor de atributo por classe\n",
    "soup.select(\".sister\")"
   ]
  },
  {
   "cell_type": "code",
   "execution_count": 47,
   "id": "4c03096f-bbe1-44cc-91c5-4bea58bbad03",
   "metadata": {},
   "outputs": [
    {
     "data": {
      "text/plain": [
       "[<a class=\"sister\" href=\"http://example.com/lacie\" id=\"link2\">Lacie</a>]"
      ]
     },
     "execution_count": 47,
     "metadata": {},
     "output_type": "execute_result"
    }
   ],
   "source": [
    "# Seletor de Id\n",
    "soup.select(\"#link2\")"
   ]
  },
  {
   "cell_type": "code",
   "execution_count": 48,
   "id": "e9a34ad3-9dcd-4cdc-b42b-b9e98e178000",
   "metadata": {},
   "outputs": [
    {
     "data": {
      "text/plain": [
       "[<a class=\"sister\" href=\"http://example.com/tillie\" id=\"link3\">Tillie</a>]"
      ]
     },
     "execution_count": 48,
     "metadata": {},
     "output_type": "execute_result"
    }
   ],
   "source": [
    "# Seletores Compostos\n",
    "soup.select(\"a[href$=tillie]\")"
   ]
  },
  {
   "cell_type": "markdown",
   "id": "fada82e8-a0f1-4c5d-8d99-115ae976584d",
   "metadata": {},
   "source": [
    "### Seletores com Combinadores"
   ]
  },
  {
   "cell_type": "code",
   "execution_count": 49,
   "id": "7a5c3e82-9bb5-452c-b384-61ff4cfc71f4",
   "metadata": {},
   "outputs": [
    {
     "data": {
      "text/plain": [
       "[<a class=\"sister\" href=\"http://example.com/elsie\" id=\"link1\">Elsie</a>,\n",
       " <a class=\"sister\" href=\"http://example.com/lacie\" id=\"link2\">Lacie</a>,\n",
       " <a class=\"sister\" href=\"http://example.com/tillie\" id=\"link3\">Tillie</a>]"
      ]
     },
     "execution_count": 49,
     "metadata": {},
     "output_type": "execute_result"
    }
   ],
   "source": [
    "# Combinador Espaço ' '\n",
    "soup.select(\"body a\")"
   ]
  },
  {
   "cell_type": "code",
   "execution_count": 50,
   "id": "591bf7ee-da88-444b-ac0b-c9db0acac5e1",
   "metadata": {},
   "outputs": [
    {
     "data": {
      "text/plain": [
       "[<title>The Dormouse's story</title>]"
      ]
     },
     "execution_count": 50,
     "metadata": {},
     "output_type": "execute_result"
    }
   ],
   "source": [
    "# Combinador Filho >\n",
    "soup.select(\"head > title\")"
   ]
  },
  {
   "cell_type": "code",
   "execution_count": 51,
   "id": "d9c6cefa-1a20-4207-9dd0-4eb93c0c2c62",
   "metadata": {},
   "outputs": [
    {
     "data": {
      "text/plain": [
       "[<a class=\"sister\" href=\"http://example.com/lacie\" id=\"link2\">Lacie</a>,\n",
       " <a class=\"sister\" href=\"http://example.com/tillie\" id=\"link3\">Tillie</a>]"
      ]
     },
     "execution_count": 51,
     "metadata": {},
     "output_type": "execute_result"
    }
   ],
   "source": [
    "# Combinador Irmão Subsequente ~\n",
    "soup.select(\"#link1 ~ .sister\")"
   ]
  },
  {
   "cell_type": "markdown",
   "id": "1f966a21-9c03-4a5e-b055-d3812ba9a5c2",
   "metadata": {},
   "source": [
    "### Exercício\n",
    "\n",
    "Crie um seletor CSS para cada item abaixo.\n",
    "1. Todas as tags b que estão dentro de um p\n",
    "2. Todas as tags da classe story\n",
    "3. Tag com id link2 e as suas irmãs subsequentes "
   ]
  }
 ],
 "metadata": {
  "kernelspec": {
   "display_name": "Python 3",
   "language": "python",
   "name": "python3"
  },
  "language_info": {
   "codemirror_mode": {
    "name": "ipython",
    "version": 3
   },
   "file_extension": ".py",
   "mimetype": "text/x-python",
   "name": "python",
   "nbconvert_exporter": "python",
   "pygments_lexer": "ipython3",
   "version": "3.8.0"
  }
 },
 "nbformat": 4,
 "nbformat_minor": 5
}
